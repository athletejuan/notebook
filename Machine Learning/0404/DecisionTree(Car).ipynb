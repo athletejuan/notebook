{
 "cells": [
  {
   "cell_type": "code",
   "execution_count": 61,
   "metadata": {},
   "outputs": [],
   "source": [
    "import numpy as np\n",
    "import pandas as pd\n",
    "import matplotlib.pyplot as plt\n",
    "from sklearn.model_selection import train_test_split\n",
    "from sklearn.tree import DecisionTreeClassifier\n",
    "from sklearn import metrics\n",
    "from sklearn import tree\n",
    "from sklearn.metrics import accuracy_score"
   ]
  },
  {
   "cell_type": "code",
   "execution_count": 50,
   "metadata": {},
   "outputs": [],
   "source": [
    "car=pd.read_csv(\"car.csv\", names=['buying','maint','doors','persons','lug_boot','safety','class'], header=0)\n",
    "car['class'],class_names = pd.factorize(car['class'])"
   ]
  },
  {
   "cell_type": "code",
   "execution_count": 32,
   "metadata": {},
   "outputs": [
    {
     "data": {
      "text/html": [
       "<div>\n",
       "<style scoped>\n",
       "    .dataframe tbody tr th:only-of-type {\n",
       "        vertical-align: middle;\n",
       "    }\n",
       "\n",
       "    .dataframe tbody tr th {\n",
       "        vertical-align: top;\n",
       "    }\n",
       "\n",
       "    .dataframe thead th {\n",
       "        text-align: right;\n",
       "    }\n",
       "</style>\n",
       "<table border=\"1\" class=\"dataframe\">\n",
       "  <thead>\n",
       "    <tr style=\"text-align: right;\">\n",
       "      <th></th>\n",
       "      <th>buying</th>\n",
       "      <th>maint</th>\n",
       "      <th>doors</th>\n",
       "      <th>persons</th>\n",
       "      <th>lug_boot</th>\n",
       "      <th>safety</th>\n",
       "      <th>class</th>\n",
       "    </tr>\n",
       "  </thead>\n",
       "  <tbody>\n",
       "    <tr>\n",
       "      <th>0</th>\n",
       "      <td>vhigh</td>\n",
       "      <td>vhigh</td>\n",
       "      <td>2</td>\n",
       "      <td>2</td>\n",
       "      <td>small</td>\n",
       "      <td>low</td>\n",
       "      <td>unacc</td>\n",
       "    </tr>\n",
       "    <tr>\n",
       "      <th>1</th>\n",
       "      <td>vhigh</td>\n",
       "      <td>vhigh</td>\n",
       "      <td>2</td>\n",
       "      <td>2</td>\n",
       "      <td>small</td>\n",
       "      <td>med</td>\n",
       "      <td>unacc</td>\n",
       "    </tr>\n",
       "    <tr>\n",
       "      <th>2</th>\n",
       "      <td>vhigh</td>\n",
       "      <td>vhigh</td>\n",
       "      <td>2</td>\n",
       "      <td>2</td>\n",
       "      <td>small</td>\n",
       "      <td>high</td>\n",
       "      <td>unacc</td>\n",
       "    </tr>\n",
       "    <tr>\n",
       "      <th>3</th>\n",
       "      <td>vhigh</td>\n",
       "      <td>vhigh</td>\n",
       "      <td>2</td>\n",
       "      <td>2</td>\n",
       "      <td>med</td>\n",
       "      <td>low</td>\n",
       "      <td>unacc</td>\n",
       "    </tr>\n",
       "    <tr>\n",
       "      <th>4</th>\n",
       "      <td>vhigh</td>\n",
       "      <td>vhigh</td>\n",
       "      <td>2</td>\n",
       "      <td>2</td>\n",
       "      <td>med</td>\n",
       "      <td>med</td>\n",
       "      <td>unacc</td>\n",
       "    </tr>\n",
       "  </tbody>\n",
       "</table>\n",
       "</div>"
      ],
      "text/plain": [
       "  buying  maint doors persons lug_boot safety  class\n",
       "0  vhigh  vhigh     2       2    small    low  unacc\n",
       "1  vhigh  vhigh     2       2    small    med  unacc\n",
       "2  vhigh  vhigh     2       2    small   high  unacc\n",
       "3  vhigh  vhigh     2       2      med    low  unacc\n",
       "4  vhigh  vhigh     2       2      med    med  unacc"
      ]
     },
     "execution_count": 32,
     "metadata": {},
     "output_type": "execute_result"
    }
   ],
   "source": [
    "car.head()"
   ]
  },
  {
   "cell_type": "code",
   "execution_count": 54,
   "metadata": {},
   "outputs": [],
   "source": [
    "car['buying'],_=pd.factorize(car['buying'])\n",
    "car['maint'],_=pd.factorize(car['maint'])\n",
    "car['doors'],_=pd.factorize(car['doors'])\n",
    "car['persons'],_=pd.factorize(car['persons'])\n",
    "car['lug_boot'],_=pd.factorize(car['lug_boot'])\n",
    "car['safety'],_=pd.factorize(car['safety'])\n",
    "car['class'],_=pd.factorize(car['class'])"
   ]
  },
  {
   "cell_type": "code",
   "execution_count": 55,
   "metadata": {},
   "outputs": [
    {
     "data": {
      "text/plain": [
       "(array([[0, 0, 0, 0, 0, 0],\n",
       "        [0, 0, 0, 0, 0, 1],\n",
       "        [0, 0, 0, 0, 0, 2],\n",
       "        ...,\n",
       "        [3, 3, 3, 2, 2, 0],\n",
       "        [3, 3, 3, 2, 2, 1],\n",
       "        [3, 3, 3, 2, 2, 2]], dtype=int64), array([[0],\n",
       "        [0],\n",
       "        [0],\n",
       "        ...,\n",
       "        [0],\n",
       "        [3],\n",
       "        [2]], dtype=int64))"
      ]
     },
     "execution_count": 55,
     "metadata": {},
     "output_type": "execute_result"
    }
   ],
   "source": [
    "x=car.iloc[:,:-1].values\n",
    "y=car.iloc[:,-1:].values.reshape(-1,1)\n",
    "x,y"
   ]
  },
  {
   "cell_type": "code",
   "execution_count": 63,
   "metadata": {},
   "outputs": [],
   "source": [
    "xtrain, xtest, ytrain, ytest=train_test_split(x, y, test_size=0.3, random_state=0)"
   ]
  },
  {
   "cell_type": "code",
   "execution_count": 64,
   "metadata": {},
   "outputs": [
    {
     "data": {
      "text/plain": [
       "(numpy.ndarray, numpy.ndarray)"
      ]
     },
     "execution_count": 64,
     "metadata": {},
     "output_type": "execute_result"
    }
   ],
   "source": [
    "type(xtrain), type(ytrain)"
   ]
  },
  {
   "cell_type": "code",
   "execution_count": 65,
   "metadata": {},
   "outputs": [
    {
     "data": {
      "text/plain": [
       "DecisionTreeClassifier(class_weight=None, criterion='entropy', max_depth=3,\n",
       "            max_features=None, max_leaf_nodes=None,\n",
       "            min_impurity_decrease=0.0, min_impurity_split=None,\n",
       "            min_samples_leaf=1, min_samples_split=2,\n",
       "            min_weight_fraction_leaf=0.0, presort=False, random_state=0,\n",
       "            splitter='best')"
      ]
     },
     "execution_count": 65,
     "metadata": {},
     "output_type": "execute_result"
    }
   ],
   "source": [
    "dstClf=tree.DecisionTreeClassifier(criterion=\"entropy\", max_depth=3, random_state=0)\n",
    "dstClf.fit(xtrain,ytrain)"
   ]
  },
  {
   "cell_type": "code",
   "execution_count": 66,
   "metadata": {},
   "outputs": [
    {
     "data": {
      "text/plain": [
       "0.815028901734104"
      ]
     },
     "execution_count": 66,
     "metadata": {},
     "output_type": "execute_result"
    }
   ],
   "source": [
    "rResult=dstClf.predict(xtest)\n",
    "metrics.accuracy_score(ytest,rResult)"
   ]
  },
  {
   "cell_type": "code",
   "execution_count": 67,
   "metadata": {},
   "outputs": [],
   "source": [
    "import os\n",
    "os.environ[\"PATH\"]+=os.pathsep+ 'C:\\\\Program Files (x86)\\\\Graphviz2.38\\\\bin'\n",
    "export_graphviz(dstClf, out_file=dot_data, filled=True, rounded=True, feature_names=sel_names, class_names=['0','1'])\n",
    "from sklearn.tree import export_graphviz\n",
    "from sklearn.externals.six import StringIO\n",
    "from IPython.display import Image\n",
    "import pydotplus\n",
    "import graphviz"
   ]
  },
  {
   "cell_type": "code",
   "execution_count": 72,
   "metadata": {},
   "outputs": [],
   "source": [
    "dot_data=tree.export_graphviz(dstClf, out_file=None, filled=True, rounded=True, feature_names=list(car.columns.values[:-1]))"
   ]
  },
  {
   "cell_type": "code",
   "execution_count": 73,
   "metadata": {},
   "outputs": [
    {
     "data": {
      "image/svg+xml": [
       "<?xml version=\"1.0\" encoding=\"UTF-8\" standalone=\"no\"?>\r\n",
       "<!DOCTYPE svg PUBLIC \"-//W3C//DTD SVG 1.1//EN\"\r\n",
       " \"http://www.w3.org/Graphics/SVG/1.1/DTD/svg11.dtd\">\r\n",
       "<!-- Generated by graphviz version 2.38.0 (20140413.2041)\r\n",
       " -->\r\n",
       "<!-- Title: Tree Pages: 1 -->\r\n",
       "<svg width=\"528pt\" height=\"373pt\"\r\n",
       " viewBox=\"0.00 0.00 527.50 373.00\" xmlns=\"http://www.w3.org/2000/svg\" xmlns:xlink=\"http://www.w3.org/1999/xlink\">\r\n",
       "<g id=\"graph0\" class=\"graph\" transform=\"scale(1 1) rotate(0) translate(4 369)\">\r\n",
       "<title>Tree</title>\r\n",
       "<polygon fill=\"white\" stroke=\"none\" points=\"-4,4 -4,-369 523.5,-369 523.5,4 -4,4\"/>\r\n",
       "<!-- 0 -->\r\n",
       "<g id=\"node1\" class=\"node\"><title>0</title>\r\n",
       "<path fill=\"#e58139\" fill-opacity=\"0.615686\" stroke=\"black\" d=\"M239.5,-365C239.5,-365 85.5,-365 85.5,-365 79.5,-365 73.5,-359 73.5,-353 73.5,-353 73.5,-309 73.5,-309 73.5,-303 79.5,-297 85.5,-297 85.5,-297 239.5,-297 239.5,-297 245.5,-297 251.5,-303 251.5,-309 251.5,-309 251.5,-353 251.5,-353 251.5,-359 245.5,-365 239.5,-365\"/>\r\n",
       "<text text-anchor=\"middle\" x=\"162.5\" y=\"-349.8\" font-family=\"Helvetica,sans-Serif\" font-size=\"14.00\">safety &lt;= 0.5</text>\r\n",
       "<text text-anchor=\"middle\" x=\"162.5\" y=\"-334.8\" font-family=\"Helvetica,sans-Serif\" font-size=\"14.00\">entropy = 1.203</text>\r\n",
       "<text text-anchor=\"middle\" x=\"162.5\" y=\"-319.8\" font-family=\"Helvetica,sans-Serif\" font-size=\"14.00\">samples = 1209</text>\r\n",
       "<text text-anchor=\"middle\" x=\"162.5\" y=\"-304.8\" font-family=\"Helvetica,sans-Serif\" font-size=\"14.00\">value = [847, 269, 49, 44]</text>\r\n",
       "</g>\r\n",
       "<!-- 1 -->\r\n",
       "<g id=\"node2\" class=\"node\"><title>1</title>\r\n",
       "<path fill=\"#e58139\" stroke=\"black\" d=\"M133,-253.5C133,-253.5 12,-253.5 12,-253.5 6,-253.5 0,-247.5 0,-241.5 0,-241.5 0,-212.5 0,-212.5 0,-206.5 6,-200.5 12,-200.5 12,-200.5 133,-200.5 133,-200.5 139,-200.5 145,-206.5 145,-212.5 145,-212.5 145,-241.5 145,-241.5 145,-247.5 139,-253.5 133,-253.5\"/>\r\n",
       "<text text-anchor=\"middle\" x=\"72.5\" y=\"-238.3\" font-family=\"Helvetica,sans-Serif\" font-size=\"14.00\">entropy = 0.0</text>\r\n",
       "<text text-anchor=\"middle\" x=\"72.5\" y=\"-223.3\" font-family=\"Helvetica,sans-Serif\" font-size=\"14.00\">samples = 411</text>\r\n",
       "<text text-anchor=\"middle\" x=\"72.5\" y=\"-208.3\" font-family=\"Helvetica,sans-Serif\" font-size=\"14.00\">value = [411, 0, 0, 0]</text>\r\n",
       "</g>\r\n",
       "<!-- 0&#45;&gt;1 -->\r\n",
       "<g id=\"edge1\" class=\"edge\"><title>0&#45;&gt;1</title>\r\n",
       "<path fill=\"none\" stroke=\"black\" d=\"M133.28,-296.884C123.187,-285.446 111.883,-272.634 101.785,-261.19\"/>\r\n",
       "<polygon fill=\"black\" stroke=\"black\" points=\"104.258,-258.703 95.0176,-253.52 99.0094,-263.334 104.258,-258.703\"/>\r\n",
       "<text text-anchor=\"middle\" x=\"93.4581\" y=\"-274.771\" font-family=\"Helvetica,sans-Serif\" font-size=\"14.00\">True</text>\r\n",
       "</g>\r\n",
       "<!-- 2 -->\r\n",
       "<g id=\"node3\" class=\"node\"><title>2</title>\r\n",
       "<path fill=\"#e58139\" fill-opacity=\"0.317647\" stroke=\"black\" d=\"M329.5,-261C329.5,-261 175.5,-261 175.5,-261 169.5,-261 163.5,-255 163.5,-249 163.5,-249 163.5,-205 163.5,-205 163.5,-199 169.5,-193 175.5,-193 175.5,-193 329.5,-193 329.5,-193 335.5,-193 341.5,-199 341.5,-205 341.5,-205 341.5,-249 341.5,-249 341.5,-255 335.5,-261 329.5,-261\"/>\r\n",
       "<text text-anchor=\"middle\" x=\"252.5\" y=\"-245.8\" font-family=\"Helvetica,sans-Serif\" font-size=\"14.00\">persons &lt;= 0.5</text>\r\n",
       "<text text-anchor=\"middle\" x=\"252.5\" y=\"-230.8\" font-family=\"Helvetica,sans-Serif\" font-size=\"14.00\">entropy = 1.483</text>\r\n",
       "<text text-anchor=\"middle\" x=\"252.5\" y=\"-215.8\" font-family=\"Helvetica,sans-Serif\" font-size=\"14.00\">samples = 798</text>\r\n",
       "<text text-anchor=\"middle\" x=\"252.5\" y=\"-200.8\" font-family=\"Helvetica,sans-Serif\" font-size=\"14.00\">value = [436, 269, 49, 44]</text>\r\n",
       "</g>\r\n",
       "<!-- 0&#45;&gt;2 -->\r\n",
       "<g id=\"edge2\" class=\"edge\"><title>0&#45;&gt;2</title>\r\n",
       "<path fill=\"none\" stroke=\"black\" d=\"M191.72,-296.884C199.58,-287.976 208.175,-278.235 216.362,-268.957\"/>\r\n",
       "<polygon fill=\"black\" stroke=\"black\" points=\"219.126,-271.113 223.118,-261.299 213.878,-266.482 219.126,-271.113\"/>\r\n",
       "<text text-anchor=\"middle\" x=\"224.678\" y=\"-282.551\" font-family=\"Helvetica,sans-Serif\" font-size=\"14.00\">False</text>\r\n",
       "</g>\r\n",
       "<!-- 3 -->\r\n",
       "<g id=\"node4\" class=\"node\"><title>3</title>\r\n",
       "<path fill=\"#e58139\" stroke=\"black\" d=\"M223,-149.5C223,-149.5 102,-149.5 102,-149.5 96,-149.5 90,-143.5 90,-137.5 90,-137.5 90,-108.5 90,-108.5 90,-102.5 96,-96.5 102,-96.5 102,-96.5 223,-96.5 223,-96.5 229,-96.5 235,-102.5 235,-108.5 235,-108.5 235,-137.5 235,-137.5 235,-143.5 229,-149.5 223,-149.5\"/>\r\n",
       "<text text-anchor=\"middle\" x=\"162.5\" y=\"-134.3\" font-family=\"Helvetica,sans-Serif\" font-size=\"14.00\">entropy = 0.0</text>\r\n",
       "<text text-anchor=\"middle\" x=\"162.5\" y=\"-119.3\" font-family=\"Helvetica,sans-Serif\" font-size=\"14.00\">samples = 263</text>\r\n",
       "<text text-anchor=\"middle\" x=\"162.5\" y=\"-104.3\" font-family=\"Helvetica,sans-Serif\" font-size=\"14.00\">value = [263, 0, 0, 0]</text>\r\n",
       "</g>\r\n",
       "<!-- 2&#45;&gt;3 -->\r\n",
       "<g id=\"edge3\" class=\"edge\"><title>2&#45;&gt;3</title>\r\n",
       "<path fill=\"none\" stroke=\"black\" d=\"M223.28,-192.884C213.187,-181.446 201.883,-168.634 191.785,-157.19\"/>\r\n",
       "<polygon fill=\"black\" stroke=\"black\" points=\"194.258,-154.703 185.018,-149.52 189.009,-159.334 194.258,-154.703\"/>\r\n",
       "</g>\r\n",
       "<!-- 4 -->\r\n",
       "<g id=\"node5\" class=\"node\"><title>4</title>\r\n",
       "<path fill=\"#47e539\" fill-opacity=\"0.266667\" stroke=\"black\" d=\"M419.5,-157C419.5,-157 265.5,-157 265.5,-157 259.5,-157 253.5,-151 253.5,-145 253.5,-145 253.5,-101 253.5,-101 253.5,-95 259.5,-89 265.5,-89 265.5,-89 419.5,-89 419.5,-89 425.5,-89 431.5,-95 431.5,-101 431.5,-101 431.5,-145 431.5,-145 431.5,-151 425.5,-157 419.5,-157\"/>\r\n",
       "<text text-anchor=\"middle\" x=\"342.5\" y=\"-141.8\" font-family=\"Helvetica,sans-Serif\" font-size=\"14.00\">buying &lt;= 1.5</text>\r\n",
       "<text text-anchor=\"middle\" x=\"342.5\" y=\"-126.8\" font-family=\"Helvetica,sans-Serif\" font-size=\"14.00\">entropy = 1.638</text>\r\n",
       "<text text-anchor=\"middle\" x=\"342.5\" y=\"-111.8\" font-family=\"Helvetica,sans-Serif\" font-size=\"14.00\">samples = 535</text>\r\n",
       "<text text-anchor=\"middle\" x=\"342.5\" y=\"-96.8\" font-family=\"Helvetica,sans-Serif\" font-size=\"14.00\">value = [173, 269, 49, 44]</text>\r\n",
       "</g>\r\n",
       "<!-- 2&#45;&gt;4 -->\r\n",
       "<g id=\"edge4\" class=\"edge\"><title>2&#45;&gt;4</title>\r\n",
       "<path fill=\"none\" stroke=\"black\" d=\"M281.72,-192.884C289.58,-183.976 298.175,-174.235 306.362,-164.957\"/>\r\n",
       "<polygon fill=\"black\" stroke=\"black\" points=\"309.126,-167.113 313.118,-157.299 303.878,-162.482 309.126,-167.113\"/>\r\n",
       "</g>\r\n",
       "<!-- 5 -->\r\n",
       "<g id=\"node6\" class=\"node\"><title>5</title>\r\n",
       "<path fill=\"#e58139\" fill-opacity=\"0.015686\" stroke=\"black\" d=\"M319,-53C319,-53 182,-53 182,-53 176,-53 170,-47 170,-41 170,-41 170,-12 170,-12 170,-6 176,-0 182,-0 182,-0 319,-0 319,-0 325,-0 331,-6 331,-12 331,-12 331,-41 331,-41 331,-47 325,-53 319,-53\"/>\r\n",
       "<text text-anchor=\"middle\" x=\"250.5\" y=\"-37.8\" font-family=\"Helvetica,sans-Serif\" font-size=\"14.00\">entropy = 1.0</text>\r\n",
       "<text text-anchor=\"middle\" x=\"250.5\" y=\"-22.8\" font-family=\"Helvetica,sans-Serif\" font-size=\"14.00\">samples = 278</text>\r\n",
       "<text text-anchor=\"middle\" x=\"250.5\" y=\"-7.8\" font-family=\"Helvetica,sans-Serif\" font-size=\"14.00\">value = [140, 138, 0, 0]</text>\r\n",
       "</g>\r\n",
       "<!-- 4&#45;&gt;5 -->\r\n",
       "<g id=\"edge5\" class=\"edge\"><title>4&#45;&gt;5</title>\r\n",
       "<path fill=\"none\" stroke=\"black\" d=\"M310.323,-88.9485C301.328,-79.709 291.555,-69.671 282.567,-60.4381\"/>\r\n",
       "<polygon fill=\"black\" stroke=\"black\" points=\"285.039,-57.9605 275.556,-53.2367 280.024,-62.8434 285.039,-57.9605\"/>\r\n",
       "</g>\r\n",
       "<!-- 6 -->\r\n",
       "<g id=\"node7\" class=\"node\"><title>6</title>\r\n",
       "<path fill=\"#47e539\" fill-opacity=\"0.396078\" stroke=\"black\" d=\"M507.5,-53C507.5,-53 361.5,-53 361.5,-53 355.5,-53 349.5,-47 349.5,-41 349.5,-41 349.5,-12 349.5,-12 349.5,-6 355.5,-0 361.5,-0 361.5,-0 507.5,-0 507.5,-0 513.5,-0 519.5,-6 519.5,-12 519.5,-12 519.5,-41 519.5,-41 519.5,-47 513.5,-53 507.5,-53\"/>\r\n",
       "<text text-anchor=\"middle\" x=\"434.5\" y=\"-37.8\" font-family=\"Helvetica,sans-Serif\" font-size=\"14.00\">entropy = 1.768</text>\r\n",
       "<text text-anchor=\"middle\" x=\"434.5\" y=\"-22.8\" font-family=\"Helvetica,sans-Serif\" font-size=\"14.00\">samples = 257</text>\r\n",
       "<text text-anchor=\"middle\" x=\"434.5\" y=\"-7.8\" font-family=\"Helvetica,sans-Serif\" font-size=\"14.00\">value = [33, 131, 49, 44]</text>\r\n",
       "</g>\r\n",
       "<!-- 4&#45;&gt;6 -->\r\n",
       "<g id=\"edge6\" class=\"edge\"><title>4&#45;&gt;6</title>\r\n",
       "<path fill=\"none\" stroke=\"black\" d=\"M374.677,-88.9485C383.672,-79.709 393.445,-69.671 402.433,-60.4381\"/>\r\n",
       "<polygon fill=\"black\" stroke=\"black\" points=\"404.976,-62.8434 409.444,-53.2367 399.961,-57.9605 404.976,-62.8434\"/>\r\n",
       "</g>\r\n",
       "</g>\r\n",
       "</svg>\r\n"
      ],
      "text/plain": [
       "<graphviz.files.Source at 0x2a6aa48a128>"
      ]
     },
     "execution_count": 73,
     "metadata": {},
     "output_type": "execute_result"
    }
   ],
   "source": [
    "#export_graphviz(dstClf, out_file=dot_data, filled=True, rounded=True, feature_names=sel_names, class_names=['0','1'])\n",
    "#graph=pydotplus.graph_from_dot_data(dot_data.getvalue())\n",
    "graph=graphviz.Source(dot_data)\n",
    "graph"
   ]
  },
  {
   "cell_type": "code",
   "execution_count": null,
   "metadata": {},
   "outputs": [],
   "source": []
  }
 ],
 "metadata": {
  "kernelspec": {
   "display_name": "Python 3",
   "language": "python",
   "name": "python3"
  },
  "language_info": {
   "codemirror_mode": {
    "name": "ipython",
    "version": 3
   },
   "file_extension": ".py",
   "mimetype": "text/x-python",
   "name": "python",
   "nbconvert_exporter": "python",
   "pygments_lexer": "ipython3",
   "version": "3.7.1"
  }
 },
 "nbformat": 4,
 "nbformat_minor": 2
}
