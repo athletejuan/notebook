{
 "cells": [
  {
   "cell_type": "code",
   "execution_count": 1,
   "metadata": {},
   "outputs": [],
   "source": [
    "# Linear Regression"
   ]
  },
  {
   "cell_type": "code",
   "execution_count": 2,
   "metadata": {},
   "outputs": [
    {
     "name": "stdout",
     "output_type": "stream",
     "text": [
      "Collecting keras\n",
      "  Downloading https://files.pythonhosted.org/packages/5e/10/aa32dad071ce52b5502266b5c659451cfd6ffcbf14e6c8c4f16c0ff5aaab/Keras-2.2.4-py2.py3-none-any.whl (312kB)\n",
      "Collecting pyyaml (from keras)\n",
      "  Downloading https://files.pythonhosted.org/packages/b6/74/c3e15707516f80192059dde32c9d78f00a88c9f3c4d1efd76cbc8d5b0a20/PyYAML-5.1-cp37-cp37m-win_amd64.whl (215kB)\n",
      "Requirement already satisfied: h5py in c:\\users\\administrator\\anaconda3\\envs\\tensorflow\\lib\\site-packages (from keras) (2.9.0)\n",
      "Requirement already satisfied: keras-preprocessing>=1.0.5 in c:\\users\\administrator\\anaconda3\\envs\\tensorflow\\lib\\site-packages (from keras) (1.0.9)\n",
      "Requirement already satisfied: keras-applications>=1.0.6 in c:\\users\\administrator\\anaconda3\\envs\\tensorflow\\lib\\site-packages (from keras) (1.0.7)\n",
      "Requirement already satisfied: six>=1.9.0 in c:\\users\\administrator\\anaconda3\\envs\\tensorflow\\lib\\site-packages (from keras) (1.12.0)\n",
      "Requirement already satisfied: numpy>=1.9.1 in c:\\users\\administrator\\anaconda3\\envs\\tensorflow\\lib\\site-packages (from keras) (1.16.2)\n",
      "Collecting scipy>=0.14 (from keras)\n",
      "  Downloading https://files.pythonhosted.org/packages/58/f0/d00c0e01e077da883f030af3ff5ce653a0e9e4786f83faa89a6e18c98612/scipy-1.2.1-cp37-cp37m-win_amd64.whl (30.0MB)\n",
      "Installing collected packages: pyyaml, scipy, keras\n",
      "Successfully installed keras-2.2.4 pyyaml-5.1 scipy-1.2.1\n"
     ]
    }
   ],
   "source": [
    "!pip install keras"
   ]
  },
  {
   "cell_type": "code",
   "execution_count": 5,
   "metadata": {},
   "outputs": [
    {
     "data": {
      "image/png": "[encoded data removed]",
      "text/plain": [
       "<Figure size 432x288 with 1 Axes>"
      ]
     },
     "metadata": {
      "needs_background": "light"
     },
     "output_type": "display_data"
    }
   ],
   "source": [
    "import keras\n",
    "from keras.models import Sequential\n",
    "from keras.layers import Dense, Activation\n",
    "import numpy as np\n",
    "import matplotlib.pyplot as plt\n",
    "# data load, preprocessing\n",
    "x=np.linspace(1,2,200)\n",
    "y=x*4 + np.random.randn(*x.shape)*0.3\n",
    "plt.scatter(x,y)\n",
    "plt.show()"
   ]
  },
  {
   "cell_type": "code",
   "execution_count": 6,
   "metadata": {},
   "outputs": [
    {
     "name": "stdout",
     "output_type": "stream",
     "text": [
      "WARNING:tensorflow:From C:\\Users\\Administrator\\Anaconda3\\envs\\tensorflow\\lib\\site-packages\\tensorflow\\python\\framework\\op_def_library.py:263: colocate_with (from tensorflow.python.framework.ops) is deprecated and will be removed in a future version.\n",
      "Instructions for updating:\n",
      "Colocations handled automatically by placer.\n"
     ]
    }
   ],
   "source": [
    "# create the model\n",
    "model=Sequential()\n",
    "model.add(Dense(1,input_dim=1,activation='linear'))"
   ]
  },
  {
   "cell_type": "code",
   "execution_count": 7,
   "metadata": {},
   "outputs": [],
   "source": [
    "model.compile(optimizer='sgd',loss='mse', metrics=['mse'])\n",
    "# Mean square error, MSE: 오차 제곱의 평균"
   ]
  },
  {
   "cell_type": "code",
   "execution_count": 11,
   "metadata": {},
   "outputs": [
    {
     "data": {
      "text/plain": [
       "(-1.552405, 0.0)"
      ]
     },
     "execution_count": 11,
     "metadata": {},
     "output_type": "execute_result"
    }
   ],
   "source": [
    "weights=model.layers[0].get_weights()\n",
    "w_init=weights[0][0][0]\n",
    "b_init=weights[1][0]\n",
    "w_init, b_init"
   ]
  },
  {
   "cell_type": "code",
   "execution_count": 12,
   "metadata": {},
   "outputs": [
    {
     "name": "stdout",
     "output_type": "stream",
     "text": [
      "WARNING:tensorflow:From C:\\Users\\Administrator\\Anaconda3\\envs\\tensorflow\\lib\\site-packages\\tensorflow\\python\\ops\\math_ops.py:3066: to_int32 (from tensorflow.python.ops.math_ops) is deprecated and will be removed in a future version.\n",
      "Instructions for updating:\n",
      "Use tf.cast instead.\n",
      "Epoch 1/30\n",
      "200/200 [==============================] - 1s 3ms/step - loss: 2.3384 - mean_squared_error: 2.3384\n",
      "Epoch 2/30\n",
      "200/200 [==============================] - 0s 548us/step - loss: 0.2209 - mean_squared_error: 0.2209\n",
      "Epoch 3/30\n",
      "200/200 [==============================] - 0s 551us/step - loss: 0.2110 - mean_squared_error: 0.2110\n",
      "Epoch 4/30\n",
      "200/200 [==============================] - 0s 486us/step - loss: 0.2020 - mean_squared_error: 0.2020\n",
      "Epoch 5/30\n",
      "200/200 [==============================] - 0s 579us/step - loss: 0.1937 - mean_squared_error: 0.1937\n",
      "Epoch 6/30\n",
      "200/200 [==============================] - 0s 482us/step - loss: 0.1860 - mean_squared_error: 0.1860\n",
      "Epoch 7/30\n",
      "200/200 [==============================] - 0s 575us/step - loss: 0.1790 - mean_squared_error: 0.1790\n",
      "Epoch 8/30\n",
      "200/200 [==============================] - 0s 499us/step - loss: 0.1725 - mean_squared_error: 0.1725\n",
      "Epoch 9/30\n",
      "200/200 [==============================] - 0s 500us/step - loss: 0.1666 - mean_squared_error: 0.1666\n",
      "Epoch 10/30\n",
      "200/200 [==============================] - 0s 573us/step - loss: 0.1611 - mean_squared_error: 0.1611\n",
      "Epoch 11/30\n",
      "200/200 [==============================] - 0s 532us/step - loss: 0.1561 - mean_squared_error: 0.1561\n",
      "Epoch 12/30\n",
      "200/200 [==============================] - 0s 469us/step - loss: 0.1515 - mean_squared_error: 0.1515\n",
      "Epoch 13/30\n",
      "200/200 [==============================] - 0s 501us/step - loss: 0.1472 - mean_squared_error: 0.1472\n",
      "Epoch 14/30\n",
      "200/200 [==============================] - 0s 532us/step - loss: 0.1433 - mean_squared_error: 0.1433\n",
      "Epoch 15/30\n",
      "200/200 [==============================] - 0s 472us/step - loss: 0.1397 - mean_squared_error: 0.1397\n",
      "Epoch 16/30\n",
      "200/200 [==============================] - 0s 574us/step - loss: 0.1365 - mean_squared_error: 0.1365\n",
      "Epoch 17/30\n",
      "200/200 [==============================] - 0s 499us/step - loss: 0.1334 - mean_squared_error: 0.1334\n",
      "Epoch 18/30\n",
      "200/200 [==============================] - 0s 544us/step - loss: 0.1306 - mean_squared_error: 0.1306\n",
      "Epoch 19/30\n",
      "200/200 [==============================] - 0s 458us/step - loss: 0.1281 - mean_squared_error: 0.1281\n",
      "Epoch 20/30\n",
      "200/200 [==============================] - 0s 587us/step - loss: 0.1257 - mean_squared_error: 0.1257\n",
      "Epoch 21/30\n",
      "200/200 [==============================] - 0s 536us/step - loss: 0.1236 - mean_squared_error: 0.1236\n",
      "Epoch 22/30\n",
      "200/200 [==============================] - 0s 517us/step - loss: 0.1216 - mean_squared_error: 0.1216\n",
      "Epoch 23/30\n",
      "200/200 [==============================] - 0s 508us/step - loss: 0.1198 - mean_squared_error: 0.1198\n",
      "Epoch 24/30\n",
      "200/200 [==============================] - 0s 535us/step - loss: 0.1181 - mean_squared_error: 0.1181\n",
      "Epoch 25/30\n",
      "200/200 [==============================] - 0s 524us/step - loss: 0.1165 - mean_squared_error: 0.1165\n",
      "Epoch 26/30\n",
      "200/200 [==============================] - 0s 523us/step - loss: 0.1151 - mean_squared_error: 0.1151\n",
      "Epoch 27/30\n",
      "200/200 [==============================] - 0s 524us/step - loss: 0.1138 - mean_squared_error: 0.1138\n",
      "Epoch 28/30\n",
      "200/200 [==============================] - 0s 456us/step - loss: 0.1126 - mean_squared_error: 0.1126\n",
      "Epoch 29/30\n",
      "200/200 [==============================] - 0s 613us/step - loss: 0.1115 - mean_squared_error: 0.1115\n",
      "Epoch 30/30\n",
      "200/200 [==============================] - 0s 517us/step - loss: 0.1105 - mean_squared_error: 0.1105\n"
     ]
    },
    {
     "data": {
      "text/plain": [
       "<keras.callbacks.History at 0x1b9a0607160>"
      ]
     },
     "execution_count": 12,
     "metadata": {},
     "output_type": "execute_result"
    }
   ],
   "source": [
    "model.fit(x,y,batch_size=1, epochs=30, shuffle=False)"
   ]
  },
  {
   "cell_type": "code",
   "execution_count": 16,
   "metadata": {},
   "outputs": [
    {
     "data": {
      "image/png": "[encoded data removed]",
      "text/plain": [
       "<Figure size 432x288 with 1 Axes>"
      ]
     },
     "metadata": {
      "needs_background": "light"
     },
     "output_type": "display_data"
    }
   ],
   "source": [
    "predict=model.predict(x)\n",
    "plt.plot(x,predict,'b',x,y,'k.')\n",
    "plt.show()"
   ]
  },
  {
   "cell_type": "code",
   "execution_count": null,
   "metadata": {},
   "outputs": [],
   "source": []
  }
 ],
 "metadata": {
  "kernelspec": {
   "display_name": "Python 3",
   "language": "python",
   "name": "python3"
  },
  "language_info": {
   "codemirror_mode": {
    "name": "ipython",
    "version": 3
   },
   "file_extension": ".py",
   "mimetype": "text/x-python",
   "name": "python",
   "nbconvert_exporter": "python",
   "pygments_lexer": "ipython3",
   "version": "3.7.3"
  }
 },
 "nbformat": 4,
 "nbformat_minor": 2
}
