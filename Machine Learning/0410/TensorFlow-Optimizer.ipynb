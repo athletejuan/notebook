{
 "cells": [
  {
   "cell_type": "code",
   "execution_count": 1,
   "metadata": {},
   "outputs": [],
   "source": [
    "import tensorflow as tf"
   ]
  },
  {
   "cell_type": "code",
   "execution_count": 5,
   "metadata": {},
   "outputs": [],
   "source": [
    "# y = w * x + b\n",
    "\n",
    "xtrain = [1,2,3]\n",
    "ytrain = [1,2,3]\n",
    "\n",
    "W=tf.Variable(tf.random_normal([1]), name='weight')\n",
    "b=tf.Variable(tf.random_normal([1]), name='bias')\n",
    "\n",
    "hypothesis=xtrain * W + b\n",
    "cost=tf.reduce_mean(tf.square(hypothesis - ytrain))\n",
    "\n",
    "# Optimizer\n",
    "train=tf.train.GradientDescentOptimizer(learning_rate=0.01).minimize(cost)"
   ]
  },
  {
   "cell_type": "code",
   "execution_count": 7,
   "metadata": {},
   "outputs": [],
   "source": [
    "sess=tf.Session()\n",
    "sess.run(tf.global_variables_initializer())"
   ]
  },
  {
   "cell_type": "code",
   "execution_count": 9,
   "metadata": {},
   "outputs": [
    {
     "name": "stdout",
     "output_type": "stream",
     "text": [
      "0 0.0334459 [0.7881043] [0.48168868]\n",
      "20 0.030376092 [0.7980627] [0.45905107]\n",
      "40 0.027588055 [0.807553] [0.4374774]\n",
      "60 0.025055932 [0.8165973] [0.41691756]\n",
      "80 0.022756187 [0.8252165] [0.397324]\n",
      "100 0.020667547 [0.8334307] [0.37865123]\n",
      "120 0.018770583 [0.8412589] [0.36085597]\n",
      "140 0.017047746 [0.84871906] [0.3438971]\n",
      "160 0.0154830245 [0.85582876] [0.3277352]\n",
      "180 0.01406194 [0.86260426] [0.31233284]\n"
     ]
    }
   ],
   "source": [
    "for s in range(200):\n",
    "    _, cost_val, W_val, b_val = sess.run([train,cost,W,b])\n",
    "    #print(cost_val, W_val, b_val)\n",
    "    if s % 20 == 0:\n",
    "        print(s, cost_val, W_val, b_val)"
   ]
  },
  {
   "cell_type": "code",
   "execution_count": null,
   "metadata": {},
   "outputs": [],
   "source": []
  }
 ],
 "metadata": {
  "kernelspec": {
   "display_name": "Python 3",
   "language": "python",
   "name": "python3"
  },
  "language_info": {
   "codemirror_mode": {
    "name": "ipython",
    "version": 3
   },
   "file_extension": ".py",
   "mimetype": "text/x-python",
   "name": "python",
   "nbconvert_exporter": "python",
   "pygments_lexer": "ipython3",
   "version": "3.7.3"
  }
 },
 "nbformat": 4,
 "nbformat_minor": 2
}
