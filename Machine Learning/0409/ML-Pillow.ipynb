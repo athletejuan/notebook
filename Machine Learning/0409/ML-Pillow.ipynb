{
 "cells": [
  {
   "cell_type": "code",
   "execution_count": 9,
   "metadata": {},
   "outputs": [
    {
     "name": "stdout",
     "output_type": "stream",
     "text": [
      "Requirement already satisfied: pillow in c:\\users\\administrator\\anaconda3\\envs\\tensorflow\\lib\\site-packages (6.0.0)\n"
     ]
    }
   ],
   "source": [
    "#Nearest Neighbors\n",
    "!pip install pillow\n",
    "import numpy as np\n",
    "import PIL.Image as pil\n",
    "import tensorflow as tf\n",
    "from tensorflow.examples.tutorials.mnist import input_data"
   ]
  },
  {
   "cell_type": "code",
   "execution_count": 2,
   "metadata": {},
   "outputs": [
    {
     "name": "stdout",
     "output_type": "stream",
     "text": [
      "WARNING:tensorflow:From <ipython-input-2-ef4c5cbec934>:1: read_data_sets (from tensorflow.contrib.learn.python.learn.datasets.mnist) is deprecated and will be removed in a future version.\n",
      "Instructions for updating:\n",
      "Please use alternatives such as official/mnist/dataset.py from tensorflow/models.\n",
      "WARNING:tensorflow:From C:\\Users\\Administrator\\Anaconda3\\envs\\tensorflow\\lib\\site-packages\\tensorflow\\contrib\\learn\\python\\learn\\datasets\\mnist.py:260: maybe_download (from tensorflow.contrib.learn.python.learn.datasets.base) is deprecated and will be removed in a future version.\n",
      "Instructions for updating:\n",
      "Please write your own downloading logic.\n",
      "WARNING:tensorflow:From C:\\Users\\Administrator\\Anaconda3\\envs\\tensorflow\\lib\\site-packages\\tensorflow\\contrib\\learn\\python\\learn\\datasets\\base.py:252: _internal_retry.<locals>.wrap.<locals>.wrapped_fn (from tensorflow.contrib.learn.python.learn.datasets.base) is deprecated and will be removed in a future version.\n",
      "Instructions for updating:\n",
      "Please use urllib or similar directly.\n",
      "Successfully downloaded train-images-idx3-ubyte.gz 9912422 bytes.\n",
      "WARNING:tensorflow:From C:\\Users\\Administrator\\Anaconda3\\envs\\tensorflow\\lib\\site-packages\\tensorflow\\contrib\\learn\\python\\learn\\datasets\\mnist.py:262: extract_images (from tensorflow.contrib.learn.python.learn.datasets.mnist) is deprecated and will be removed in a future version.\n",
      "Instructions for updating:\n",
      "Please use tf.data to implement this functionality.\n",
      "Extracting mnist\\train-images-idx3-ubyte.gz\n",
      "Successfully downloaded train-labels-idx1-ubyte.gz 28881 bytes.\n",
      "WARNING:tensorflow:From C:\\Users\\Administrator\\Anaconda3\\envs\\tensorflow\\lib\\site-packages\\tensorflow\\contrib\\learn\\python\\learn\\datasets\\mnist.py:267: extract_labels (from tensorflow.contrib.learn.python.learn.datasets.mnist) is deprecated and will be removed in a future version.\n",
      "Instructions for updating:\n",
      "Please use tf.data to implement this functionality.\n",
      "Extracting mnist\\train-labels-idx1-ubyte.gz\n",
      "Successfully downloaded t10k-images-idx3-ubyte.gz 1648877 bytes.\n",
      "Extracting mnist\\t10k-images-idx3-ubyte.gz\n",
      "Successfully downloaded t10k-labels-idx1-ubyte.gz 4542 bytes.\n",
      "Extracting mnist\\t10k-labels-idx1-ubyte.gz\n",
      "WARNING:tensorflow:From C:\\Users\\Administrator\\Anaconda3\\envs\\tensorflow\\lib\\site-packages\\tensorflow\\contrib\\learn\\python\\learn\\datasets\\mnist.py:290: DataSet.__init__ (from tensorflow.contrib.learn.python.learn.datasets.mnist) is deprecated and will be removed in a future version.\n",
      "Instructions for updating:\n",
      "Please use alternatives such as official/mnist/dataset.py from tensorflow/models.\n"
     ]
    }
   ],
   "source": [
    "mnist=input_data.read_data_sets('mnist')"
   ]
  },
  {
   "cell_type": "code",
   "execution_count": 3,
   "metadata": {},
   "outputs": [],
   "source": [
    "testImage=(np.array(mnist.test.images[0],dtype='float')).reshape(28,28)"
   ]
  },
  {
   "cell_type": "code",
   "execution_count": 4,
   "metadata": {},
   "outputs": [],
   "source": [
    "img=pil.fromarray(np.uint8(testImage*255),'L')"
   ]
  },
  {
   "cell_type": "code",
   "execution_count": 5,
   "metadata": {},
   "outputs": [],
   "source": [
    "img.show()"
   ]
  },
  {
   "cell_type": "code",
   "execution_count": 8,
   "metadata": {},
   "outputs": [],
   "source": [
    "Xtrain, Ytrain=mnist.train.next_batch(5000)\n",
    "Xtest, Ytest=mnist.test.next_batch(200)"
   ]
  },
  {
   "cell_type": "code",
   "execution_count": 10,
   "metadata": {},
   "outputs": [],
   "source": [
    "xtr=tf.placeholder('float',[None, 784])\n",
    "xte=tf.placeholder('float',[784])"
   ]
  },
  {
   "cell_type": "code",
   "execution_count": 11,
   "metadata": {},
   "outputs": [],
   "source": [
    "distance=tf.reduce_sum(tf.abs(tf.add(xtr, tf.negative(xte))),reduction_indices=1)"
   ]
  },
  {
   "cell_type": "code",
   "execution_count": 13,
   "metadata": {},
   "outputs": [
    {
     "data": {
      "text/plain": [
       "<tf.Tensor 'ArgMin_1:0' shape=() dtype=int64>"
      ]
     },
     "execution_count": 13,
     "metadata": {},
     "output_type": "execute_result"
    }
   ],
   "source": [
    "pred=tf.arg_min(distance,0)\n",
    "pred"
   ]
  },
  {
   "cell_type": "code",
   "execution_count": 14,
   "metadata": {},
   "outputs": [],
   "source": [
    "accuracy=0\n",
    "init=tf.global_variables_initializer()"
   ]
  },
  {
   "cell_type": "code",
   "execution_count": 15,
   "metadata": {},
   "outputs": [],
   "source": [
    "sess=tf.Session()\n",
    "sess.run(init)"
   ]
  },
  {
   "cell_type": "code",
   "execution_count": 20,
   "metadata": {},
   "outputs": [
    {
     "name": "stdout",
     "output_type": "stream",
     "text": [
      "Test 0 Prediction 0 True Class 0\n",
      "Test 1 Prediction 0 True Class 0\n",
      "Test 2 Prediction 0 True Class 0\n",
      "Test 3 Prediction 0 True Class 0\n",
      "Test 4 Prediction 0 True Class 0\n",
      "Test 5 Prediction 0 True Class 0\n",
      "Test 6 Prediction 0 True Class 0\n",
      "Test 7 Prediction 0 True Class 0\n",
      "Test 8 Prediction 0 True Class 0\n",
      "Test 9 Prediction 0 True Class 0\n",
      "Test 10 Prediction 0 True Class 0\n",
      "Test 11 Prediction 0 True Class 0\n",
      "Test 12 Prediction 0 True Class 0\n",
      "Test 13 Prediction 0 True Class 0\n",
      "Test 14 Prediction 0 True Class 0\n",
      "Test 15 Prediction 0 True Class 0\n",
      "Test 16 Prediction 0 True Class 0\n",
      "Test 17 Prediction 0 True Class 0\n",
      "Test 18 Prediction 0 True Class 0\n",
      "Test 19 Prediction 0 True Class 0\n",
      "Test 20 Prediction 0 True Class 0\n",
      "Test 21 Prediction 0 True Class 0\n",
      "Test 22 Prediction 0 True Class 0\n",
      "Test 23 Prediction 0 True Class 0\n",
      "Test 24 Prediction 0 True Class 0\n",
      "Test 25 Prediction 0 True Class 0\n",
      "Test 26 Prediction 0 True Class 0\n",
      "Test 27 Prediction 0 True Class 0\n",
      "Test 28 Prediction 0 True Class 0\n",
      "Test 29 Prediction 0 True Class 0\n",
      "Test 30 Prediction 0 True Class 0\n",
      "Test 31 Prediction 0 True Class 0\n",
      "Test 32 Prediction 0 True Class 0\n",
      "Test 33 Prediction 0 True Class 0\n",
      "Test 34 Prediction 0 True Class 0\n",
      "Test 35 Prediction 0 True Class 0\n",
      "Test 36 Prediction 0 True Class 0\n",
      "Test 37 Prediction 0 True Class 0\n",
      "Test 38 Prediction 0 True Class 0\n",
      "Test 39 Prediction 0 True Class 0\n",
      "Test 40 Prediction 0 True Class 0\n",
      "Test 41 Prediction 0 True Class 0\n",
      "Test 42 Prediction 0 True Class 0\n",
      "Test 43 Prediction 0 True Class 0\n",
      "Test 44 Prediction 0 True Class 0\n",
      "Test 45 Prediction 0 True Class 0\n",
      "Test 46 Prediction 0 True Class 0\n",
      "Test 47 Prediction 0 True Class 0\n",
      "Test 48 Prediction 0 True Class 0\n",
      "Test 49 Prediction 0 True Class 0\n",
      "Test 50 Prediction 0 True Class 0\n",
      "Test 51 Prediction 0 True Class 0\n",
      "Test 52 Prediction 0 True Class 0\n",
      "Test 53 Prediction 0 True Class 0\n",
      "Test 54 Prediction 0 True Class 0\n",
      "Test 55 Prediction 0 True Class 0\n",
      "Test 56 Prediction 0 True Class 0\n",
      "Test 57 Prediction 0 True Class 0\n",
      "Test 58 Prediction 0 True Class 0\n",
      "Test 59 Prediction 0 True Class 0\n",
      "Test 60 Prediction 0 True Class 0\n",
      "Test 61 Prediction 0 True Class 0\n",
      "Test 62 Prediction 0 True Class 0\n",
      "Test 63 Prediction 0 True Class 0\n",
      "Test 64 Prediction 0 True Class 0\n",
      "Test 65 Prediction 0 True Class 0\n",
      "Test 66 Prediction 0 True Class 0\n",
      "Test 67 Prediction 0 True Class 0\n",
      "Test 68 Prediction 0 True Class 0\n",
      "Test 69 Prediction 0 True Class 0\n",
      "Test 70 Prediction 0 True Class 0\n",
      "Test 71 Prediction 0 True Class 0\n",
      "Test 72 Prediction 0 True Class 0\n",
      "Test 73 Prediction 0 True Class 0\n",
      "Test 74 Prediction 0 True Class 0\n",
      "Test 75 Prediction 0 True Class 0\n",
      "Test 76 Prediction 0 True Class 0\n",
      "Test 77 Prediction 0 True Class 0\n",
      "Test 78 Prediction 0 True Class 0\n",
      "Test 79 Prediction 0 True Class 0\n",
      "Test 80 Prediction 0 True Class 0\n",
      "Test 81 Prediction 0 True Class 0\n",
      "Test 82 Prediction 0 True Class 0\n",
      "Test 83 Prediction 0 True Class 0\n",
      "Test 84 Prediction 0 True Class 0\n",
      "Test 85 Prediction 0 True Class 0\n",
      "Test 86 Prediction 0 True Class 0\n",
      "Test 87 Prediction 0 True Class 0\n",
      "Test 88 Prediction 0 True Class 0\n",
      "Test 89 Prediction 0 True Class 0\n",
      "Test 90 Prediction 0 True Class 0\n",
      "Test 91 Prediction 0 True Class 0\n",
      "Test 92 Prediction 0 True Class 0\n",
      "Test 93 Prediction 0 True Class 0\n",
      "Test 94 Prediction 0 True Class 0\n",
      "Test 95 Prediction 0 True Class 0\n",
      "Test 96 Prediction 0 True Class 0\n",
      "Test 97 Prediction 0 True Class 0\n",
      "Test 98 Prediction 0 True Class 0\n",
      "Test 99 Prediction 0 True Class 0\n",
      "Test 100 Prediction 0 True Class 0\n",
      "Test 101 Prediction 0 True Class 0\n",
      "Test 102 Prediction 0 True Class 0\n",
      "Test 103 Prediction 0 True Class 0\n",
      "Test 104 Prediction 0 True Class 0\n",
      "Test 105 Prediction 0 True Class 0\n",
      "Test 106 Prediction 0 True Class 0\n",
      "Test 107 Prediction 0 True Class 0\n",
      "Test 108 Prediction 0 True Class 0\n",
      "Test 109 Prediction 0 True Class 0\n",
      "Test 110 Prediction 0 True Class 0\n",
      "Test 111 Prediction 0 True Class 0\n",
      "Test 112 Prediction 0 True Class 0\n",
      "Test 113 Prediction 0 True Class 0\n",
      "Test 114 Prediction 0 True Class 0\n",
      "Test 115 Prediction 0 True Class 0\n",
      "Test 116 Prediction 0 True Class 0\n",
      "Test 117 Prediction 0 True Class 0\n",
      "Test 118 Prediction 0 True Class 0\n",
      "Test 119 Prediction 0 True Class 0\n",
      "Test 120 Prediction 0 True Class 0\n",
      "Test 121 Prediction 0 True Class 0\n",
      "Test 122 Prediction 0 True Class 0\n",
      "Test 123 Prediction 0 True Class 0\n",
      "Test 124 Prediction 0 True Class 0\n",
      "Test 125 Prediction 0 True Class 0\n",
      "Test 126 Prediction 0 True Class 0\n",
      "Test 127 Prediction 0 True Class 0\n",
      "Test 128 Prediction 0 True Class 0\n",
      "Test 129 Prediction 0 True Class 0\n",
      "Test 130 Prediction 0 True Class 0\n",
      "Test 131 Prediction 0 True Class 0\n",
      "Test 132 Prediction 0 True Class 0\n",
      "Test 133 Prediction 0 True Class 0\n",
      "Test 134 Prediction 0 True Class 0\n",
      "Test 135 Prediction 0 True Class 0\n",
      "Test 136 Prediction 0 True Class 0\n",
      "Test 137 Prediction 0 True Class 0\n",
      "Test 138 Prediction 0 True Class 0\n",
      "Test 139 Prediction 0 True Class 0\n",
      "Test 140 Prediction 0 True Class 0\n",
      "Test 141 Prediction 0 True Class 0\n",
      "Test 142 Prediction 0 True Class 0\n",
      "Test 143 Prediction 0 True Class 0\n",
      "Test 144 Prediction 0 True Class 0\n",
      "Test 145 Prediction 0 True Class 0\n",
      "Test 146 Prediction 0 True Class 0\n",
      "Test 147 Prediction 0 True Class 0\n",
      "Test 148 Prediction 0 True Class 0\n",
      "Test 149 Prediction 0 True Class 0\n",
      "Test 150 Prediction 0 True Class 0\n",
      "Test 151 Prediction 0 True Class 0\n",
      "Test 152 Prediction 0 True Class 0\n",
      "Test 153 Prediction 0 True Class 0\n",
      "Test 154 Prediction 0 True Class 0\n",
      "Test 155 Prediction 0 True Class 0\n",
      "Test 156 Prediction 0 True Class 0\n",
      "Test 157 Prediction 0 True Class 0\n",
      "Test 158 Prediction 0 True Class 0\n",
      "Test 159 Prediction 0 True Class 0\n",
      "Test 160 Prediction 0 True Class 0\n",
      "Test 161 Prediction 0 True Class 0\n",
      "Test 162 Prediction 0 True Class 0\n",
      "Test 163 Prediction 0 True Class 0\n",
      "Test 164 Prediction 0 True Class 0\n",
      "Test 165 Prediction 0 True Class 0\n",
      "Test 166 Prediction 0 True Class 0\n",
      "Test 167 Prediction 0 True Class 0\n",
      "Test 168 Prediction 0 True Class 0\n",
      "Test 169 Prediction 0 True Class 0\n",
      "Test 170 Prediction 0 True Class 0\n",
      "Test 171 Prediction 0 True Class 0\n",
      "Test 172 Prediction 0 True Class 0\n",
      "Test 173 Prediction 0 True Class 0\n",
      "Test 174 Prediction 0 True Class 0\n",
      "Test 175 Prediction 0 True Class 0\n",
      "Test 176 Prediction 0 True Class 0\n",
      "Test 177 Prediction 0 True Class 0\n",
      "Test 178 Prediction 0 True Class 0\n",
      "Test 179 Prediction 0 True Class 0\n",
      "Test 180 Prediction 0 True Class 0\n",
      "Test 181 Prediction 0 True Class 0\n",
      "Test 182 Prediction 0 True Class 0\n",
      "Test 183 Prediction 0 True Class 0\n",
      "Test 184 Prediction 0 True Class 0\n",
      "Test 185 Prediction 0 True Class 0\n",
      "Test 186 Prediction 0 True Class 0\n",
      "Test 187 Prediction 0 True Class 0\n",
      "Test 188 Prediction 0 True Class 0\n",
      "Test 189 Prediction 0 True Class 0\n",
      "Test 190 Prediction 0 True Class 0\n",
      "Test 191 Prediction 0 True Class 0\n",
      "Test 192 Prediction 0 True Class 0\n",
      "Test 193 Prediction 0 True Class 0\n",
      "Test 194 Prediction 0 True Class 0\n",
      "Test 195 Prediction 0 True Class 0\n",
      "Test 196 Prediction 0 True Class 0\n",
      "Test 197 Prediction 0 True Class 0\n",
      "Test 198 Prediction 0 True Class 0\n",
      "Test 199 Prediction 0 True Class 0\n"
     ]
    }
   ],
   "source": [
    "for i in range(len(Xtest)):\n",
    "    test_index=sess.run(pred,feed_dict={xtr:Xtrain, xte:Xtest[i,:]})\n",
    "    print(\"Test\",i,\"Prediction\",np.argmax(Ytrain[test_index]),\"True Class\",np.argmax(Ytest[i]))"
   ]
  },
  {
   "cell_type": "code",
   "execution_count": 19,
   "metadata": {},
   "outputs": [
    {
     "name": "stdout",
     "output_type": "stream",
     "text": [
      "1744\n"
     ]
    }
   ],
   "source": []
  },
  {
   "cell_type": "code",
   "execution_count": null,
   "metadata": {},
   "outputs": [],
   "source": []
  }
 ],
 "metadata": {
  "kernelspec": {
   "display_name": "Python 3",
   "language": "python",
   "name": "python3"
  },
  "language_info": {
   "codemirror_mode": {
    "name": "ipython",
    "version": 3
   },
   "file_extension": ".py",
   "mimetype": "text/x-python",
   "name": "python",
   "nbconvert_exporter": "python",
   "pygments_lexer": "ipython3",
   "version": "3.7.3"
  }
 },
 "nbformat": 4,
 "nbformat_minor": 2
}
