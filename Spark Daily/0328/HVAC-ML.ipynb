{
 "cells": [
  {
   "cell_type": "code",
   "execution_count": 1,
   "metadata": {
    "collapsed": false
   },
   "outputs": [
    {
     "name": "stdout",
     "output_type": "stream",
     "text": [
      "Starting Spark application\n"
     ]
    },
    {
     "data": {
      "text/html": [
       "<table>\n",
       "<tr><th>ID</th><th>YARN Application ID</th><th>Kind</th><th>State</th><th>Spark UI</th><th>Driver log</th><th>Current session?</th></tr><tr><td>2</td><td>application_1553734074701_0006</td><td>pyspark3</td><td>idle</td><td><a target=\"_blank\" href=\"http://hn1-juan03.2dwq2cv3qssevbhcvruj2504nd.syx.internal.cloudapp.net:8088/proxy/application_1553734074701_0006/\">Link</a></td><td><a target=\"_blank\" href=\"http://wn0-juan03.2dwq2cv3qssevbhcvruj2504nd.syx.internal.cloudapp.net:30060/node/containerlogs/container_1553734074701_0006_01_000001/livy\">Link</a></td><td>✔</td></tr></table>"
      ],
      "text/plain": [
       "<IPython.core.display.HTML object>"
      ]
     },
     "metadata": {},
     "output_type": "display_data"
    },
    {
     "name": "stdout",
     "output_type": "stream",
     "text": [
      "SparkSession available as 'spark'.\n"
     ]
    }
   ],
   "source": [
    "from pyspark.ml import Pipeline\n",
    "from pyspark.ml.classification import LogisticRegression\n",
    "from pyspark.ml.feature import HashingTF, Tokenizer\n",
    "from pyspark.sql import Row\n",
    "\n",
    "import os\n",
    "import sys\n",
    "from pyspark.sql.types import *\n",
    "\n",
    "from pyspark.mllib.classification import LogisticRegressionWithSGD\n",
    "from pyspark.mllib.regression import LabeledPoint\n",
    "from numpy import array"
   ]
  },
  {
   "cell_type": "code",
   "execution_count": 2,
   "metadata": {
    "collapsed": true
   },
   "outputs": [],
   "source": [
    "# 0 Date\n",
    "# 1 Time\n",
    "# 2 TargetTemp\n",
    "# 3 ActualTemp\n",
    "# 4 System\n",
    "# 5 SystemAge\n",
    "# 6 BuildingID\n",
    "\n",
    "LabeledDocument = Row(\"BuildingID\", \"SystemInfo\", \"label\")\n",
    "\n",
    "# Define a function that parses the raw CSV file and returns an object of type LabeledDocument\n",
    "\n",
    "def parseDocument(line):\n",
    "    values = [str(x) for x in line.split(',')]\n",
    "    if (values[3] > values[2]):\n",
    "        hot = 1.0\n",
    "    else:\n",
    "        hot = 0.0        \n",
    "\n",
    "    textValue = str(values[4]) + \" \" + str(values[5])\n",
    "\n",
    "    return LabeledDocument((values[6]), textValue, hot)\n",
    "\n",
    " # Load the raw HVAC.csv file, parse it using the function\n",
    "data = sc.textFile(\"wasbs:///HdiSamples/HdiSamples/SensorSampleData/hvac/HVAC.csv\")\n",
    "\n",
    "documents = data.filter(lambda s: \"Date\" not in s).map(parseDocument)\n",
    "training = documents.toDF()"
   ]
  },
  {
   "cell_type": "code",
   "execution_count": 3,
   "metadata": {
    "collapsed": true
   },
   "outputs": [],
   "source": [
    "tokenizer = Tokenizer(inputCol=\"SystemInfo\", outputCol=\"words\")\n",
    "hashingTF = HashingTF(inputCol=tokenizer.getOutputCol(), outputCol=\"features\")\n",
    "lr = LogisticRegression(maxIter=10, regParam=0.01)\n",
    "pipeline = Pipeline(stages=[tokenizer, hashingTF, lr])\n",
    "\n",
    "# Fit the pipeline to the training document\n",
    "model = pipeline.fit(training)"
   ]
  },
  {
   "cell_type": "code",
   "execution_count": 4,
   "metadata": {
    "collapsed": false
   },
   "outputs": [
    {
     "name": "stdout",
     "output_type": "stream",
     "text": [
      "+----------+----------+-----+\n",
      "|BuildingID|SystemInfo|label|\n",
      "+----------+----------+-----+\n",
      "|         4|     13 20|  0.0|\n",
      "|        17|      3 20|  0.0|\n",
      "|        18|     17 20|  1.0|\n",
      "|        15|      2 23|  0.0|\n",
      "|         3|      16 9|  1.0|\n",
      "|         4|     13 28|  0.0|\n",
      "|         2|     12 24|  0.0|\n",
      "|        16|     20 26|  1.0|\n",
      "|         9|      16 9|  1.0|\n",
      "|        12|       6 5|  0.0|\n",
      "|        15|     10 17|  1.0|\n",
      "|         7|      2 11|  0.0|\n",
      "|        15|      14 2|  1.0|\n",
      "|         6|       3 2|  0.0|\n",
      "|        20|     19 22|  0.0|\n",
      "|         8|     19 11|  0.0|\n",
      "|         6|      15 7|  0.0|\n",
      "|        13|      12 5|  0.0|\n",
      "|         4|      8 22|  0.0|\n",
      "|         7|      17 5|  0.0|\n",
      "+----------+----------+-----+\n",
      "only showing top 20 rows"
     ]
    }
   ],
   "source": [
    "training.show()"
   ]
  },
  {
   "cell_type": "code",
   "execution_count": 7,
   "metadata": {
    "collapsed": false
   },
   "outputs": [
    {
     "name": "stderr",
     "output_type": "stream",
     "text": [
      "invalid syntax (<stdin>, line 2)\n",
      "  File \"<stdin>\", line 2\n",
      "    test=sc.parallelize([(1L, \"20 25\"),(2L, \"4 15\"),(3L, \"16 9\"),(4L,\"9 22\"),(5L,\"17 10\"),(6L,\"7 22\")])\\.map(lambda x: Document(*x)).toDF()\n",
      "                           ^\n",
      "SyntaxError: invalid syntax\n",
      "\n"
     ]
    }
   ],
   "source": [
    "Document = Row(\"Id\", \"SystemInfo\")\n",
    "test=sc.parallelize([(1L, \"20 25\"),(2L, \"4 15\"),(3L, \"16 9\"),(4L,\"9 22\"),(5L,\"17 10\"),(6L,\"7 22\")])\\.map(lambda x: Document(*x)).toDF()"
   ]
  },
  {
   "cell_type": "code",
   "execution_count": 8,
   "metadata": {
    "collapsed": false
   },
   "outputs": [
    {
     "name": "stderr",
     "output_type": "stream",
     "text": [
      "Missing parentheses in call to 'print' (<stdin>, line 4)\n",
      "  File \"<stdin>\", line 4\n",
      "    print row\n",
      "            ^\n",
      "SyntaxError: Missing parentheses in call to 'print'\n",
      "\n"
     ]
    }
   ],
   "source": [
    "prediction=model.transform(test)\n",
    "selected=prediction.select(\"SystemInfo\",\"prediction\",\"probability\")\n",
    "for row in selected.collect():\n",
    "    print row"
   ]
  }
 ],
 "metadata": {
  "kernelspec": {
   "display_name": "PySpark3",
   "language": "",
   "name": "pyspark3kernel"
  },
  "language_info": {
   "codemirror_mode": {
    "name": "python",
    "version": 3
   },
   "mimetype": "text/x-python",
   "name": "pyspark3",
   "pygments_lexer": "python3"
  }
 },
 "nbformat": 4,
 "nbformat_minor": 2
}