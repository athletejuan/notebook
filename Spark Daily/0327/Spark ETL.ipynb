{
 "cells": [
  {
   "cell_type": "code",
   "execution_count": 4,
   "metadata": {
    "collapsed": false
   },
   "outputs": [
    {
     "name": "stdout",
     "output_type": "stream",
     "text": [
      "3817"
     ]
    }
   ],
   "source": [
    "from pyspark.sql import Row\n",
    "text_file=sc.textFile(\"wasbs:///HdiSamples/HdiSamples/TwitterTrendsSampleData/tweets.txt\")\n",
    "counts=text_file.flatMap(lambda line:line.split(\" \")).map(lambda word:(word,1)).reduceByKey(lambda a,b:a+b)\n",
    "counts.take(5)\n",
    "counts.count()"
   ]
  },
  {
   "cell_type": "code",
   "execution_count": 5,
   "metadata": {
    "collapsed": true
   },
   "outputs": [],
   "source": [
    "counts_row=counts.map(lambda p: Row(word=p[0], count=int(p[1])))\n",
    "schemaCounts=sqlContext.createDataFrame(counts_row)\n",
    "schemaCounts.registerTempTable(\"counts\")"
   ]
  },
  {
   "cell_type": "code",
   "execution_count": 6,
   "metadata": {
    "collapsed": false
   },
   "outputs": [
    {
     "name": "stdout",
     "output_type": "stream",
     "text": [
      "Row(count=506, word=u'+0000')\n",
      "Row(count=346, word=u'Nov')\n",
      "Row(count=267, word=u'25')\n",
      "Row(count=200, word=u'{\"created_at\":\"Tue')\n",
      "Row(count=131, word=u'for')"
     ]
    }
   ],
   "source": [
    "output=sqlContext.sql(\"select * from counts order by count desc limit 5\")\n",
    "for eachrow in output.collect():\n",
    "    print(eachrow)"
   ]
  },
  {
   "cell_type": "code",
   "execution_count": null,
   "metadata": {
    "collapsed": true
   },
   "outputs": [],
   "source": []
  }
 ],
 "metadata": {
  "kernelspec": {
   "display_name": "PySpark",
   "language": "",
   "name": "pysparkkernel"
  },
  "language_info": {
   "codemirror_mode": {
    "name": "python",
    "version": 2
   },
   "mimetype": "text/x-python",
   "name": "pyspark",
   "pygments_lexer": "python2"
  }
 },
 "nbformat": 4,
 "nbformat_minor": 2
}