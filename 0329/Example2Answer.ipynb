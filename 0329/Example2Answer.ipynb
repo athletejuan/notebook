{
 "cells": [
  {
   "cell_type": "code",
   "execution_count": 1,
   "metadata": {
    "collapsed": false
   },
   "outputs": [
    {
     "name": "stdout",
     "output_type": "stream",
     "text": [
      "Starting Spark application\n"
     ]
    },
    {
     "data": {
      "text/html": [
       "<table>\n",
       "<tr><th>ID</th><th>YARN Application ID</th><th>Kind</th><th>State</th><th>Spark UI</th><th>Driver log</th><th>Current session?</th></tr><tr><td>0</td><td>application_1553819054325_0004</td><td>pyspark3</td><td>idle</td><td><a target=\"_blank\" href=\"http://hn1-juan03.lsponfgkrxiehmz1w25gxl55tc.syx.internal.cloudapp.net:8088/proxy/application_1553819054325_0004/\">Link</a></td><td><a target=\"_blank\" href=\"http://wn0-juan03.lsponfgkrxiehmz1w25gxl55tc.syx.internal.cloudapp.net:30060/node/containerlogs/container_1553819054325_0004_01_000001/livy\">Link</a></td><td>✔</td></tr></table>"
      ],
      "text/plain": [
       "<IPython.core.display.HTML object>"
      ]
     },
     "metadata": {},
     "output_type": "display_data"
    },
    {
     "name": "stdout",
     "output_type": "stream",
     "text": [
      "SparkSession available as 'spark'.\n"
     ]
    }
   ],
   "source": [
    "data_csv = sqlContext.read.format(\"com.databricks.spark.csv\").option(\"header\", \"true\").option(\"inferSchema\", \"true\").load(\"wasb:///Test_csv/1988.csv\")"
   ]
  },
  {
   "cell_type": "code",
   "execution_count": 2,
   "metadata": {
    "collapsed": true
   },
   "outputs": [],
   "source": [
    "data_csv.createOrReplaceTempView(\"airline_data_1988\")"
   ]
  },
  {
   "cell_type": "code",
   "execution_count": 3,
   "metadata": {
    "collapsed": true
   },
   "outputs": [],
   "source": [
    "top10 = sqlContext.sql(\"select distinct(UniqueCarrier), count(ArrDelay) as cnt from airline_data_1988 group by UniqueCarrier order by cnt desc LIMIT 10\")"
   ]
  },
  {
   "cell_type": "code",
   "execution_count": 5,
   "metadata": {
    "collapsed": false
   },
   "outputs": [
    {
     "name": "stdout",
     "output_type": "stream",
     "text": [
      "+-------------+------+\n",
      "|UniqueCarrier|   cnt|\n",
      "+-------------+------+\n",
      "|           DL|753983|\n",
      "|           AA|694757|\n",
      "|           UA|587144|\n",
      "|           US|494383|\n",
      "|           PI|470957|\n",
      "|           CO|457031|\n",
      "|           NW|431440|\n",
      "|           EA|389292|\n",
      "|           TW|275819|\n",
      "|           WN|262422|\n",
      "+-------------+------+"
     ]
    }
   ],
   "source": [
    "top10.show()"
   ]
  },
  {
   "cell_type": "code",
   "execution_count": null,
   "metadata": {
    "collapsed": true
   },
   "outputs": [],
   "source": []
  }
 ],
 "metadata": {
  "kernelspec": {
   "display_name": "PySpark3",
   "language": "",
   "name": "pyspark3kernel"
  },
  "language_info": {
   "codemirror_mode": {
    "name": "python",
    "version": 3
   },
   "mimetype": "text/x-python",
   "name": "pyspark3",
   "pygments_lexer": "python3"
  }
 },
 "nbformat": 4,
 "nbformat_minor": 2
}