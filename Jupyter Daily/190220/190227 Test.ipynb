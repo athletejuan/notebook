{
 "cells": [
  {
   "cell_type": "code",
   "execution_count": 2,
   "metadata": {},
   "outputs": [
    {
     "name": "stdout",
     "output_type": "stream",
     "text": [
      "첫 번째 숫자를 입력하세요(종료시:0):0\n",
      "두 번째 숫자를 입력하세요(종료시:0):0\n",
      "종료합니다\n"
     ]
    }
   ],
   "source": [
    "while True:\n",
    "    a=int(input(\"첫 번째 숫자를 입력하세요(종료시:0):\"))\n",
    "    b=int(input(\"두 번째 숫자를 입력하세요(종료시:0):\"))\n",
    "    if a == 0 and b == 0:\n",
    "        print(\"종료합니다\")\n",
    "        break\n",
    "    else:\n",
    "        def func(a,b):\n",
    "            print(\"합:\", a+b)\n",
    "            print(\"차:\", a-b)\n",
    "            print(\"곱:\", a*b)\n",
    "            print(\"몫:\", a/b)\n",
    "        func(a,b)"
   ]
  },
  {
   "cell_type": "code",
   "execution_count": 11,
   "metadata": {},
   "outputs": [
    {
     "data": {
      "text/html": [
       "<div>\n",
       "<style scoped>\n",
       "    .dataframe tbody tr th:only-of-type {\n",
       "        vertical-align: middle;\n",
       "    }\n",
       "\n",
       "    .dataframe tbody tr th {\n",
       "        vertical-align: top;\n",
       "    }\n",
       "\n",
       "    .dataframe thead th {\n",
       "        text-align: right;\n",
       "    }\n",
       "</style>\n",
       "<table border=\"1\" class=\"dataframe\">\n",
       "  <thead>\n",
       "    <tr style=\"text-align: right;\">\n",
       "      <th></th>\n",
       "      <th>날짜</th>\n",
       "      <th>지점</th>\n",
       "      <th>평균기온(℃)</th>\n",
       "      <th>최저기온(℃)</th>\n",
       "      <th>최고기온(℃)</th>\n",
       "    </tr>\n",
       "  </thead>\n",
       "  <tbody>\n",
       "    <tr>\n",
       "      <th>0</th>\n",
       "      <td>1907-10-01</td>\n",
       "      <td>108</td>\n",
       "      <td>13.5</td>\n",
       "      <td>7.9</td>\n",
       "      <td>20.7</td>\n",
       "    </tr>\n",
       "    <tr>\n",
       "      <th>1</th>\n",
       "      <td>1907-10-02</td>\n",
       "      <td>108</td>\n",
       "      <td>16.2</td>\n",
       "      <td>7.9</td>\n",
       "      <td>22.0</td>\n",
       "    </tr>\n",
       "    <tr>\n",
       "      <th>2</th>\n",
       "      <td>1907-10-03</td>\n",
       "      <td>108</td>\n",
       "      <td>16.2</td>\n",
       "      <td>13.1</td>\n",
       "      <td>21.3</td>\n",
       "    </tr>\n",
       "    <tr>\n",
       "      <th>3</th>\n",
       "      <td>1907-10-04</td>\n",
       "      <td>108</td>\n",
       "      <td>16.5</td>\n",
       "      <td>11.2</td>\n",
       "      <td>22.0</td>\n",
       "    </tr>\n",
       "    <tr>\n",
       "      <th>4</th>\n",
       "      <td>1907-10-05</td>\n",
       "      <td>108</td>\n",
       "      <td>17.6</td>\n",
       "      <td>10.9</td>\n",
       "      <td>25.4</td>\n",
       "    </tr>\n",
       "  </tbody>\n",
       "</table>\n",
       "</div>"
      ],
      "text/plain": [
       "           날짜   지점  평균기온(℃)  최저기온(℃)  최고기온(℃)\n",
       "0  1907-10-01  108     13.5      7.9     20.7\n",
       "1  1907-10-02  108     16.2      7.9     22.0\n",
       "2  1907-10-03  108     16.2     13.1     21.3\n",
       "3  1907-10-04  108     16.5     11.2     22.0\n",
       "4  1907-10-05  108     17.6     10.9     25.4"
      ]
     },
     "execution_count": 11,
     "metadata": {},
     "output_type": "execute_result"
    }
   ],
   "source": [
    "import pandas as pd\n",
    "import numpy as np\n",
    "\n",
    "\n",
    "seoul_csv=pd.read_csv(\"../seoul.csv\", encoding='utf-8')\n",
    "seoul_csv.head()"
   ]
  },
  {
   "cell_type": "code",
   "execution_count": 29,
   "metadata": {},
   "outputs": [
    {
     "name": "stdout",
     "output_type": "stream",
     "text": [
      "-23.1 1927-12-31\n"
     ]
    },
    {
     "data": {
      "image/png": "[encoded data removed]",
      "text/plain": [
       "<Figure size 432x288 with 1 Axes>"
      ]
     },
     "metadata": {
      "needs_background": "light"
     },
     "output_type": "display_data"
    },
    {
     "data": {
      "text/plain": [
       "'\\nimport csv\\nf=open(\\'seoul.csv\\',encoding=\\'utf-8\\')\\ndata=csv.reader(f)\\nnext(data)\\nmax_temp=0\\nmax_temp_data=\\'\\'\\nfor row in data:\\n    if row[-1]!=\\'\\':\\n        if(int(row[0].split(\"-\")[0]) < 1995 and float(row[-1]) > max_temp):            \\n            max_temp = float(row[-1])\\n            max_temp_date = row[0]\\n            \\nprint(max_temp, max_temp_date) #1995년 이전 최고 온도, 최고 온도인 날   \\n'"
      ]
     },
     "execution_count": 29,
     "metadata": {},
     "output_type": "execute_result"
    }
   ],
   "source": [
    "import pandas as pd\n",
    "'''\n",
    "seoul=csv.reader\n",
    "next(seoul)\n",
    "min_temp=0\n",
    "min_temp_seoul=''\n",
    "for row in seoul:\n",
    "    if row[-1]!='':\n",
    "        if(int(float(row[3]) < min_temp)):\n",
    "            min_temp=float(row[-1])\n",
    "            min_temp_date=row[0]\n",
    "print(min_temp, min_temp_date)\n",
    "\n",
    "#        data=csv_read(seoul)\n",
    "#seoul_csv\n",
    "'''\n",
    "import csv\n",
    "f=open('../seoul.csv',encoding='utf-8')\n",
    "data=csv.reader(f)\n",
    "next(data)\n",
    "min_plot=[]\n",
    "min_temp=0\n",
    "min_temp_data=''\n",
    "for row in data:\n",
    "    if row[3]!='':\n",
    "        min_plot.append(float(row[3]))\n",
    "        if(int(float(row[3]) < min_temp)):\n",
    "            min_temp = float(row[3])\n",
    "            min_temp_date = row[0]\n",
    "#print(min_temp)\n",
    "print(min_temp, min_temp_date)\n",
    "\n",
    "import matplotlib.pyplot as plt\n",
    "plt.hist(min_plot, bins=100)\n",
    "plt.show()\n",
    "\n",
    "'''\n",
    "import matplotlib.pyplot as plt\n",
    "seoul_csv[min_temp].plot(kind='barh', grid=True, figsize=(10,10))\n",
    "plt.show()\n",
    "\n",
    "min=[]\n",
    "for row in data:\n",
    "    if(row[3]!=''):\n",
    "        min.append(float(row[3]))\n",
    "        \n",
    "import matplotlib.pyplot as plt\n",
    "plt.hist(max, bins=100)\n",
    "plt.show()\n",
    "'''\n",
    "'''\n",
    "import csv\n",
    "f=open('seoul.csv',encoding='utf-8')\n",
    "data=csv.reader(f)\n",
    "next(data)\n",
    "max_temp=0\n",
    "max_temp_data=''\n",
    "for row in data:\n",
    "    if row[-1]!='':\n",
    "        if(int(row[0].split(\"-\")[0]) < 1995 and float(row[-1]) > max_temp):            \n",
    "            max_temp = float(row[-1])\n",
    "            max_temp_date = row[0]\n",
    "            \n",
    "print(max_temp, max_temp_date) #1995년 이전 최고 온도, 최고 온도인 날   \n",
    "'''"
   ]
  }
 ],
 "metadata": {
  "kernelspec": {
   "display_name": "Python 3",
   "language": "python",
   "name": "python3"
  },
  "language_info": {
   "codemirror_mode": {
    "name": "ipython",
    "version": 3
   },
   "file_extension": ".py",
   "mimetype": "text/x-python",
   "name": "python",
   "nbconvert_exporter": "python",
   "pygments_lexer": "ipython3",
   "version": "3.7.1"
  }
 },
 "nbformat": 4,
 "nbformat_minor": 2
}
