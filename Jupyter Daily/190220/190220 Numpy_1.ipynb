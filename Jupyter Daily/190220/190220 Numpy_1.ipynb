{
 "cells": [
  {
   "cell_type": "code",
   "execution_count": 20,
   "metadata": {},
   "outputs": [
    {
     "name": "stdout",
     "output_type": "stream",
     "text": [
      "[1 2 3 4]\n",
      "[[1 2]\n",
      " [3 4]]\n",
      "[[1 2 3 4]]\n",
      "[1.+0.j 2.+0.j 3.+0.j 4.+0.j]\n"
     ]
    }
   ],
   "source": [
    "import numpy as np\n",
    "a=np.array([1,2,3,4])\n",
    "print(a)\n",
    "\n",
    "b=np.array([[1,2],[3,4]])\n",
    "print(b)\n",
    "\n",
    "c=np.array([1,2,3,4], ndmin=2)\n",
    "print(c)\n",
    "\n",
    "d=np.array([1,2,3,4], dtype=complex)\n",
    "print(d)"
   ]
  },
  {
   "cell_type": "code",
   "execution_count": 11,
   "metadata": {},
   "outputs": [
    {
     "name": "stdout",
     "output_type": "stream",
     "text": [
      "int32\n"
     ]
    },
    {
     "data": {
      "text/plain": [
       "numpy.dtype"
      ]
     },
     "execution_count": 11,
     "metadata": {},
     "output_type": "execute_result"
    }
   ],
   "source": [
    "import numpy as np\n",
    "dt=np.dtype(np.int32)\n",
    "print(dt)\n",
    "type(dt)"
   ]
  },
  {
   "cell_type": "code",
   "execution_count": 16,
   "metadata": {},
   "outputs": [
    {
     "name": "stdout",
     "output_type": "stream",
     "text": [
      "[10 20 30]\n"
     ]
    }
   ],
   "source": [
    "import numpy as np\n",
    "dt=np.dtype([('age',np.int8)])\n",
    "\n",
    "a = np.array([10,20,30], dtype=np.int8)\n",
    "print(a)"
   ]
  },
  {
   "cell_type": "code",
   "execution_count": 21,
   "metadata": {},
   "outputs": [
    {
     "name": "stdout",
     "output_type": "stream",
     "text": [
      "(3,)\n",
      "(2, 3)\n"
     ]
    }
   ],
   "source": [
    "import numpy as np\n",
    "a=np.array([1,2,3])\n",
    "print(a.shape)\n",
    "a1=np.array([[1,2,3],[4,5,6]])\n",
    "print(a1.shape)"
   ]
  },
  {
   "cell_type": "code",
   "execution_count": 37,
   "metadata": {},
   "outputs": [
    {
     "name": "stdout",
     "output_type": "stream",
     "text": [
      "[1 2 3 4 5 6 7 8]\n",
      "(8,)\n",
      "1\n",
      "[1 2 3 4]\n",
      "[[1 2]\n",
      " [3 4]]\n",
      "2\n",
      "<class 'numpy.ndarray'>\n",
      "1\n",
      "[[[ 0  1  2]\n",
      "  [ 3  4  5]\n",
      "  [ 6  7  8]\n",
      "  [ 9 10 11]]\n",
      "\n",
      " [[12 13 14]\n",
      "  [15 16 17]\n",
      "  [18 19 20]\n",
      "  [21 22 23]]]\n",
      "3\n",
      "[[[ 0  1  2]\n",
      "  [ 3  4  5]\n",
      "  [ 6  7  8]\n",
      "  [ 9 10 11]]\n",
      "\n",
      " [[12 13 14]\n",
      "  [15 16 17]\n",
      "  [18 19 20]\n",
      "  [21 22 23]]]\n",
      "1\n"
     ]
    }
   ],
   "source": [
    "import numpy as np\n",
    "a=np.array([1,2,3,4,5,6,7,8])\n",
    "print(a)\n",
    "print(a.shape)\n",
    "print(a.ndim)\n",
    "a1=np.array((1,2,3,4))\n",
    "print(a1)\n",
    "a2=np.array(((1,2),(3,4)))\n",
    "print(a2)\n",
    "print(a2.ndim)\n",
    "print(type(a2))\n",
    "\n",
    "#for i in range(14):\n",
    " #   print(i)\n",
    "a3=np.arange(24)\n",
    "print(a3.ndim)\n",
    "a3.shape=(2,4,3)\n",
    "print(a3)\n",
    "a4=np.arange(24)\n",
    "a5=a4.reshape(2,4,3)\n",
    "print(a5.ndim)\n",
    "print(a5)\n",
    "print(a4.ndim)"
   ]
  },
  {
   "cell_type": "code",
   "execution_count": 45,
   "metadata": {},
   "outputs": [
    {
     "name": "stdout",
     "output_type": "stream",
     "text": [
      "[[0. 0. 0.]\n",
      " [0. 0. 0.]\n",
      " [0. 0. 0.]]\n",
      "float64\n",
      "[[1. 1.]\n",
      " [1. 1.]]\n",
      "[[6.23042070e-307 4.67296746e-307 1.69121096e-306 1.29061074e-306]\n",
      " [1.69119873e-306 1.78019082e-306 1.89146896e-307 1.37961302e-306]\n",
      " [1.05699242e-307 8.01097889e-307 2.22523004e-306 1.37961709e-306]\n",
      " [1.69118787e-306 1.86921822e-306 1.37962320e-306 1.69121231e-306]]\n"
     ]
    }
   ],
   "source": [
    "import numpy as np\n",
    "a=np.zeros((3,3))\n",
    "print(a)\n",
    "print(a.dtype)\n",
    "a1=np.ones((2,2))\n",
    "print(a1)\n",
    "a2=np.empty((4,4))\n",
    "print(a2)"
   ]
  },
  {
   "cell_type": "code",
   "execution_count": 55,
   "metadata": {},
   "outputs": [
    {
     "name": "stdout",
     "output_type": "stream",
     "text": [
      "1\n",
      "int8\n",
      "(6,)\n",
      "1\n",
      "float64\n",
      "(4,)\n",
      "[1 2 3 4]\n",
      "int16\n",
      "[0. 0. 0. 0. 0.]\n",
      "[0 0 0 0 0]\n",
      "int32\n"
     ]
    }
   ],
   "source": [
    "import numpy as np\n",
    "a=np.array([1,2,3,4,5,6], dtype=np.int8)\n",
    "print(a.ndim)\n",
    "print(a.dtype)\n",
    "print(a.shape)\n",
    "\n",
    "a1=np.array([1,2,3,4], dtype=np.float)\n",
    "print(a1.ndim)\n",
    "print(a1.dtype)\n",
    "print(a1.shape)\n",
    "\n",
    "a2=a1.astype(np.int16)\n",
    "print(a2)\n",
    "print(a2.dtype)\n",
    "\n",
    "#1차원 0으로 채우기\n",
    "a3=np.zeros(5)\n",
    "print(a3)\n",
    "#1차원 0으로 채우고 int 정의하기\n",
    "a4=np.zeros((5,),dtype=np.int)\n",
    "print(a4)\n",
    "print(a4.dtype)"
   ]
  },
  {
   "cell_type": "code",
   "execution_count": null,
   "metadata": {},
   "outputs": [],
   "source": []
  }
 ],
 "metadata": {
  "kernelspec": {
   "display_name": "Python 3",
   "language": "python",
   "name": "python3"
  },
  "language_info": {
   "codemirror_mode": {
    "name": "ipython",
    "version": 3
   },
   "file_extension": ".py",
   "mimetype": "text/x-python",
   "name": "python",
   "nbconvert_exporter": "python",
   "pygments_lexer": "ipython3",
   "version": "3.7.1"
  }
 },
 "nbformat": 4,
 "nbformat_minor": 2
}
