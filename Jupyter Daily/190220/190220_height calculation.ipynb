{
 "cells": [
  {
   "cell_type": "code",
   "execution_count": 4,
   "metadata": {},
   "outputs": [
    {
     "name": "stdout",
     "output_type": "stream",
     "text": [
      "[1 2 3]\n",
      "[1 2 3]\n",
      "[1. 2. 3.]\n",
      "(3,)\n",
      "float64\n",
      "[[0. 0. 0.]\n",
      " [0. 0. 0.]\n",
      " [0. 0. 0.]]\n",
      "2\n",
      "3\n",
      "[[0. 0. 0.]\n",
      " [0. 0. 0.]]\n",
      "[[0. 0.]\n",
      " [0. 0.]\n",
      " [0. 0.]]\n",
      "(3, 2)\n"
     ]
    }
   ],
   "source": [
    "import numpy as np\n",
    "a = np.array([1,2,3])\n",
    "print(a)\n",
    "a1= np.array((1,2,3))\n",
    "print(a1)\n",
    "a2=np.array([1,2,3], dtype=np.float)\n",
    "print(a2)\n",
    "print(a2.shape)\n",
    "print(a2.dtype)\n",
    "a3=np.zeros((3,3))\n",
    "print(a3)\n",
    "print(a3.ndim)\n",
    "a4=np.zeros((3,3,3))\n",
    "print(a4.ndim)\n",
    "a5=np.empty((2,3))\n",
    "print(a5)\n",
    "a5.shape=(3,2)\n",
    "print(a5)\n",
    "print(a5.shape)"
   ]
  },
  {
   "cell_type": "code",
   "execution_count": 11,
   "metadata": {},
   "outputs": [
    {
     "data": {
      "text/plain": [
       "array([0, 1])"
      ]
     },
     "execution_count": 11,
     "metadata": {},
     "output_type": "execute_result"
    }
   ],
   "source": [
    "# index, Slicing\n",
    "import numpy as np\n",
    "a=np.arange(10)\n",
    "#print(a[0])\n",
    "#print(a[1])\n",
    "#for i in a:\n",
    " #   print(a[i])\n",
    "a[2:]\n",
    "a[0:2]"
   ]
  },
  {
   "cell_type": "code",
   "execution_count": 18,
   "metadata": {},
   "outputs": [
    {
     "name": "stdout",
     "output_type": "stream",
     "text": [
      "[[1 2 3]\n",
      " [4 5 6]\n",
      " [7 8 9]]\n",
      "(3, 3)\n",
      "2\n",
      "int32\n",
      "[[1]\n",
      " [4]\n",
      " [7]]\n",
      "[[5]]\n"
     ]
    }
   ],
   "source": [
    "import numpy as np\n",
    "a=np.array([[1,2,3],[4,5,6],[7,8,9]])\n",
    "print(a)\n",
    "print(a.shape)\n",
    "print(a.ndim)\n",
    "print(a.dtype)\n",
    "print(a[:,0:1])\n",
    "print(a[1:2,1:2])"
   ]
  },
  {
   "cell_type": "code",
   "execution_count": 22,
   "metadata": {},
   "outputs": [
    {
     "name": "stdout",
     "output_type": "stream",
     "text": [
      "(4, 3)\n",
      "int32\n",
      "2\n",
      "[[ 3  4  5]\n",
      " [ 6  7  8]\n",
      " [ 9 10 11]]\n"
     ]
    }
   ],
   "source": [
    "import numpy as np\n",
    "a=np.array([[0,1,2],[3,4,5],[6,7,8],[9,10,11]])\n",
    "print(a.shape)\n",
    "print(a.dtype)\n",
    "print(a.ndim)\n",
    "print(a[1:4])"
   ]
  },
  {
   "cell_type": "code",
   "execution_count": 34,
   "metadata": {},
   "outputs": [
    {
     "name": "stdout",
     "output_type": "stream",
     "text": [
      "서울특별시  (1100000000)\n"
     ]
    }
   ],
   "source": [
    "import numpy as np\n",
    "data = np.loadtxt(fname=\"village_population.csv\",encoding=\"utf-8\", dtype=np.str, delimiter=\",\",usecols=range(0,104))\n",
    "#print(type(data))\n",
    "#print(data.shape)\n",
    "print(data[1,0])"
   ]
  },
  {
   "cell_type": "code",
   "execution_count": 40,
   "metadata": {},
   "outputs": [
    {
     "name": "stdout",
     "output_type": "stream",
     "text": [
      "[0 1 2]\n",
      "[3 4 5]\n",
      "[6 7 8]\n",
      "[4 5 6 7 8]\n",
      "[ True False  True]\n",
      "[[False  True False]\n",
      " [False False False]\n",
      " [False False False]]\n"
     ]
    }
   ],
   "source": [
    "import numpy as np\n",
    "data = np.array([[0,1,2],[3,4,5],[6,7,8]])\n",
    "#print(data.shape)\n",
    "#print(data.ndim)\n",
    "\n",
    "print(data[0])\n",
    "print(data[1])\n",
    "print(data[2])\n",
    "print(data[data>3])\n",
    "\n",
    "data2=np.array(['Bob','John','Bob'])\n",
    "data2.dtype\n",
    "print(data2=='Bob')\n",
    "print(data==1)"
   ]
  },
  {
   "cell_type": "code",
   "execution_count": 110,
   "metadata": {},
   "outputs": [
    {
     "name": "stdout",
     "output_type": "stream",
     "text": [
      "[1153448, 1305758, 1412882, 1401610, 1406160, 1560793, 1518630, 1510763, 1429930, 1496473, 1583170, 1436346, 1394230, 1515712, 1577680, 1581833, 1787832, 2043409, 1979155, 2041379, 2140847, 2185962, 2256957, 2275106, 2263555, 2311018, 2239020, 2040514, 2010769, 1994990, 1968067, 1999511, 2080172, 2108916, 2384803, 2620287, 2679233, 2668541, 2639102, 2303708, 2486410, 2434380, 2522944, 2741131, 2854436, 2856283, 3010409, 2931177, 2949355, 2952918, 2745441, 2597293, 2708426, 2649265, 2517680, 2793738, 2894576, 2917444, 2688176, 2453096, 2425905, 2186752, 2260224, 1918462, 1653982, 1822325, 1324244, 1408845, 1419856, 1404889, 1411759, 1120432, 994343, 1054334, 1052068, 1280333, 1042020, 909294, 922626, 817059, 741814, 678753, 629273, 540692, 446484, 396386, 313627, 274788, 238085, 193956, 155704, 109671, 88772, 64951, 61941, 45924, 30165, 21712, 15135, 10309, 55529]\n"
     ]
    },
    {
     "data": {
      "image/png": "[encoded data removed]",
      "text/plain": [
       "<Figure size 432x288 with 1 Axes>"
      ]
     },
     "metadata": {
      "needs_background": "light"
     },
     "output_type": "display_data"
    }
   ],
   "source": [
    "import numpy as np\n",
    "data=np.loadtxt(fname=\"village_population.csv\", encoding=\"utf-8\",dtype=np.str, delimiter=\",\",usecols=range(0,104))\n",
    "#print(data[0,3:])\n",
    "\n",
    "data[1:,3:]\n",
    "data2=data[1:,3:]\n",
    "data3=data2.astype(np.int)\n",
    "\n",
    "result=[]\n",
    "for i in range(0,101):\n",
    "    result.append(data3[0:,i].sum())\n",
    "print(result)\n",
    "\n",
    "import matplotlib.pyplot as plt        \n",
    "plt.plot(result)\n",
    "plt.show()"
   ]
  },
  {
   "cell_type": "code",
   "execution_count": 189,
   "metadata": {},
   "outputs": [
    {
     "ename": "TypeError",
     "evalue": "object of type 'numpy.int32' has no len()",
     "output_type": "error",
     "traceback": [
      "\u001b[1;31m---------------------------------------------------------------------------\u001b[0m",
      "\u001b[1;31mTypeError\u001b[0m                                 Traceback (most recent call last)",
      "\u001b[1;32m<ipython-input-189-2e62f2b84176>\u001b[0m in \u001b[0;36m<module>\u001b[1;34m\u001b[0m\n\u001b[0;32m      9\u001b[0m \u001b[1;32mfor\u001b[0m \u001b[0mi\u001b[0m \u001b[1;32min\u001b[0m \u001b[0mrange\u001b[0m\u001b[1;33m(\u001b[0m\u001b[1;36m0\u001b[0m\u001b[1;33m,\u001b[0m\u001b[1;36m19\u001b[0m\u001b[1;33m)\u001b[0m\u001b[1;33m:\u001b[0m\u001b[1;33m\u001b[0m\u001b[1;33m\u001b[0m\u001b[0m\n\u001b[0;32m     10\u001b[0m     \u001b[1;32mif\u001b[0m \u001b[0mdata3\u001b[0m\u001b[1;33m[\u001b[0m\u001b[0mi\u001b[0m\u001b[1;33m]\u001b[0m\u001b[1;33m==\u001b[0m\u001b[1;36m175\u001b[0m\u001b[1;33m:\u001b[0m\u001b[1;33m\u001b[0m\u001b[1;33m\u001b[0m\u001b[0m\n\u001b[1;32m---> 11\u001b[1;33m         \u001b[0mresult\u001b[0m\u001b[1;33m.\u001b[0m\u001b[0mappend\u001b[0m\u001b[1;33m(\u001b[0m\u001b[0mlen\u001b[0m\u001b[1;33m(\u001b[0m\u001b[0mdata3\u001b[0m\u001b[1;33m[\u001b[0m\u001b[0mi\u001b[0m\u001b[1;33m]\u001b[0m\u001b[1;33m)\u001b[0m\u001b[1;33m)\u001b[0m\u001b[1;33m\u001b[0m\u001b[1;33m\u001b[0m\u001b[0m\n\u001b[0m\u001b[0;32m     12\u001b[0m \u001b[0mprint\u001b[0m\u001b[1;33m(\u001b[0m\u001b[0mresult\u001b[0m\u001b[1;33m)\u001b[0m\u001b[1;33m\u001b[0m\u001b[1;33m\u001b[0m\u001b[0m\n",
      "\u001b[1;31mTypeError\u001b[0m: object of type 'numpy.int32' has no len()"
     ]
    }
   ],
   "source": [
    "import numpy as np\n",
    "data=np.loadtxt(fname=\"NHIS_OPEN_GJ_2016_2.csv\", delimiter=\",\",dtype=np.str)\n",
    "data[1:,5]\n",
    "data2=data[1:,5]\n",
    "data3=data2.astype(np.int)\n",
    "#print(data3[2])\n",
    "\n",
    "result=[]\n",
    "for i in range(0,19):\n",
    "    if data3[i]==175:\n",
    "        result.append(len(data3[i]))\n",
    "print(result)"
   ]
  },
  {
   "cell_type": "code",
   "execution_count": 213,
   "metadata": {},
   "outputs": [
    {
     "name": "stdout",
     "output_type": "stream",
     "text": [
      "[105947, 164270, 182165, 178917, 168506, 101894, 46915]\n",
      "[105947, 164270, 182165, 178917, 168506, 101894, 46915]\n"
     ]
    },
    {
     "data": {
      "image/png": "[encoded data removed]",
      "text/plain": [
       "<Figure size 432x288 with 1 Axes>"
      ]
     },
     "metadata": {
      "needs_background": "light"
     },
     "output_type": "display_data"
    }
   ],
   "source": [
    "import numpy as np\n",
    "data=np.loadtxt(fname=\"NHIS_OPEN_GJ_2016.csv\", delimiter=\",\",dtype=np.str, usecols=range(0,8))\n",
    "count1 = 0 \n",
    "count2 = 0\n",
    "count3 = 0 \n",
    "count4 = 0 \n",
    "count5 = 0\n",
    "count6 = 0\n",
    "count7 = 0\n",
    "for row in data[1:,5]:\n",
    "    if row != '':\n",
    "        if int(row) == 150:\n",
    "            count1 += 1\n",
    "        if int(row) == 155:\n",
    "            count2 += 1\n",
    "        if int(row) == 160:\n",
    "            count3 += 1\n",
    "        if int(row) == 165:\n",
    "            count4 += 1\n",
    "        if int(row) == 170:\n",
    "            count5 += 1\n",
    "        if int(row) == 175:\n",
    "            count6 += 1\n",
    "        if int(row) >= 180:\n",
    "            count7 += 1\n",
    "            \n",
    "print(result)\n",
    "\n",
    "result = [count1, count2, count3, count4, count5, count6, count7]\n",
    "title = ['150~155', '155~ 160', '160~165', '165~170', \n",
    "         '170~175', '175~180', '180~']\n",
    "\n",
    "print(result)\n",
    "\n",
    "import matplotlib.pyplot as plt\n",
    "plt.plot(result)\n",
    "plt.show()\n"
   ]
  }
 ],
 "metadata": {
  "kernelspec": {
   "display_name": "Python 3",
   "language": "python",
   "name": "python3"
  },
  "language_info": {
   "codemirror_mode": {
    "name": "ipython",
    "version": 3
   },
   "file_extension": ".py",
   "mimetype": "text/x-python",
   "name": "python",
   "nbconvert_exporter": "python",
   "pygments_lexer": "ipython3",
   "version": "3.7.1"
  }
 },
 "nbformat": 4,
 "nbformat_minor": 2
}
