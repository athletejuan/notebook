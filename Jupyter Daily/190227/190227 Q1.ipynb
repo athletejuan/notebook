{
 "cells": [
  {
   "cell_type": "code",
   "execution_count": 41,
   "metadata": {},
   "outputs": [
    {
     "name": "stdout",
     "output_type": "stream",
     "text": [
      "Sum: 5050\n"
     ]
    }
   ],
   "source": [
    "import pandas as pd\n",
    "import numpy as np\n",
    "\n",
    "num=[]\n",
    "for i in range(1,101):\n",
    "    num.append(i)\n",
    "        \n",
    "def calc(num):\n",
    "    sum=0    \n",
    "    for i in range(1,101):\n",
    "        sum=sum+i\n",
    "    print(\"Sum:\",sum)\n",
    "calc(num[-1])"
   ]
  },
  {
   "cell_type": "code",
   "execution_count": 39,
   "metadata": {},
   "outputs": [
    {
     "name": "stdout",
     "output_type": "stream",
     "text": [
      "A손님, 어떤 커피 드릴까요?(1:보통, 2:설탕, 3:블랙)1\n",
      "\n",
      "#1. (자동으로) 뜨거운 물을 준비한다.\n",
      "#2. (자동으로) 종이컵을 준비한다.\n",
      "#3. (자동으로) 보통커피를 탄다.\n",
      "#4. (자동으로) 물을 붓는다.\n",
      "#5. (자동으로) 스푼으로 젓는다.\n",
      "\n",
      "A손님~ 커피 여기 있습니다.\n",
      "B손님, 어떤 커피 드릴까요?(1:보통, 2:설탕, 3:블랙)2\n",
      "\n",
      "#1. (자동으로) 뜨거운 물을 준비한다.\n",
      "#2. (자동으로) 종이컵을 준비한다.\n",
      "#3. (자동으로) 설탕커피를 탄다.\n",
      "#4. (자동으로) 물을 붓는다.\n",
      "#5. (자동으로) 스푼으로 젓는다.\n",
      "\n",
      "B손님~ 커피 여기 있습니다.\n",
      "C손님, 어떤 커피 드릴까요?(1:보통, 2:설탕, 3:블랙)3\n",
      "\n",
      "#1. (자동으로) 뜨거운 물을 준비한다.\n",
      "#2. (자동으로) 종이컵을 준비한다.\n",
      "#3. (자동으로) 블랙커피를 탄다.\n",
      "#4. (자동으로) 물을 붓는다.\n",
      "#5. (자동으로) 스푼으로 젓는다.\n",
      "\n",
      "C손님~ 커피 여기 있습니다.\n"
     ]
    }
   ],
   "source": [
    "## 전역 변수 선언 부분 ##\n",
    "coffee = 0\n",
    "\n",
    "## 함수 선언 부분 ##\n",
    "def coffee_machine(button) :\n",
    "     print()\n",
    "     print(\"#1. (자동으로) 뜨거운 물을 준비한다.\");\n",
    "     print(\"#2. (자동으로) 종이컵을 준비한다.\");\n",
    "\n",
    "     if button == 1 :\n",
    "          print(\"#3. (자동으로) 보통커피를 탄다.\")\n",
    "     elif button == 2 :\n",
    "          print(\"#3. (자동으로) 설탕커피를 탄다.\")\n",
    "     elif button == 3 :\n",
    "          print(\"#3. (자동으로) 블랙커피를 탄다.\")\n",
    "     else :\n",
    "          print(\"#3. (자동으로) 아무거나 탄다.\\n\")\n",
    "\n",
    "     print(\"#4. (자동으로) 물을 붓는다.\");\n",
    "     print(\"#5. (자동으로) 스푼으로 젓는다.\");\n",
    "     print()\n",
    "\n",
    "## 메인 코드 부분 ##\n",
    "coffee = int(input(\"A손님, 어떤 커피 드릴까요?(1:보통, 2:설탕, 3:블랙)\"))\n",
    "coffee_machine(coffee)\n",
    "print(\"A손님~ 커피 여기 있습니다.\")\n",
    "\n",
    "coffee = int(input(\"B손님, 어떤 커피 드릴까요?(1:보통, 2:설탕, 3:블랙)\"))\n",
    "coffee_machine(coffee)\n",
    "print(\"B손님~ 커피 여기 있습니다.\")\n",
    "\n",
    "coffee = int(input(\"C손님, 어떤 커피 드릴까요?(1:보통, 2:설탕, 3:블랙)\"))\n",
    "coffee_machine(coffee)\n",
    "print(\"C손님~ 커피 여기 있습니다.\")\n"
   ]
  },
  {
   "cell_type": "code",
   "execution_count": 48,
   "metadata": {},
   "outputs": [
    {
     "name": "stdout",
     "output_type": "stream",
     "text": [
      "Odd Sum: 2500\n"
     ]
    }
   ],
   "source": [
    "odd_num=[]\n",
    "for j in range(1,101,2):\n",
    "    odd_num.append(j)\n",
    "\n",
    "def odd_calc(odd_num):\n",
    "    sum=0    \n",
    "    for j in range(1,101,2):\n",
    "        sum=sum+j\n",
    "    print(\"Odd Sum:\",sum)\n",
    "odd_calc(odd_num[-1])"
   ]
  },
  {
   "cell_type": "code",
   "execution_count": 52,
   "metadata": {},
   "outputs": [
    {
     "name": "stdout",
     "output_type": "stream",
     "text": [
      "Even_sum: 2550\n"
     ]
    }
   ],
   "source": [
    "Even_num=[]\n",
    "for k in range(0,101,2):\n",
    "    Even_num.append(k)\n",
    "    \n",
    "def calc(Even_num):\n",
    "    sum=0\n",
    "    for k in range(0,101,2):\n",
    "        sum=sum+k\n",
    "    print('Even_sum:',sum)\n",
    "calc(Even_num[-1])"
   ]
  },
  {
   "cell_type": "code",
   "execution_count": 57,
   "metadata": {},
   "outputs": [
    {
     "name": "stdout",
     "output_type": "stream",
     "text": [
      "First_Number:1\n",
      "Last_Number:10\n",
      "Gap:1\n",
      "55\n"
     ]
    }
   ],
   "source": [
    "Set=[]\n",
    "i,j=0,0\n",
    "fnum = int(input(\"First_Number:\"))\n",
    "lnum = int(input(\"Last_Number:\"))\n",
    "gnum = int(input(\"Gap:\"))\n",
    "for i in range(fnum,lnum+1,gnum):\n",
    "    Set.append(i)\n",
    "def calculator(Set):\n",
    "    sum=0\n",
    "    for j in range(fnum,lnum+1,gnum):\n",
    "        sum=sum+j\n",
    "    print(sum)\n",
    "calculator(Set[-1])"
   ]
  },
  {
   "cell_type": "code",
   "execution_count": 1,
   "metadata": {},
   "outputs": [
    {
     "name": "stdout",
     "output_type": "stream",
     "text": [
      "단수를 입력하세요 / 종료를 원하시면 0을 입력하세요:5\n",
      "5 X 1 = 5\n",
      "5 X 2 = 10\n",
      "5 X 3 = 15\n",
      "5 X 4 = 20\n",
      "5 X 5 = 25\n",
      "5 X 6 = 30\n",
      "5 X 7 = 35\n",
      "5 X 8 = 40\n",
      "5 X 9 = 45\n",
      "단수를 입력하세요 / 종료를 원하시면 0을 입력하세요:14\n",
      "14 X 1 = 14\n",
      "14 X 2 = 28\n",
      "14 X 3 = 42\n",
      "14 X 4 = 56\n",
      "14 X 5 = 70\n",
      "14 X 6 = 84\n",
      "14 X 7 = 98\n",
      "14 X 8 = 112\n",
      "14 X 9 = 126\n",
      "단수를 입력하세요 / 종료를 원하시면 0을 입력하세요:0\n",
      "구구단을 종료합니다\n"
     ]
    }
   ],
   "source": [
    "a,b=0,0\n",
    "while True:\n",
    "    a=int(input(\"단수를 입력하세요 / 종료를 원하시면 0을 입력하세요: \"))\n",
    "    if a == 0:\n",
    "        print(\"구구단을 종료합니다\")\n",
    "        break\n",
    "    else:\n",
    "        for b in range(1,10):\n",
    "            print('%d X %d = %d' % (a,b,a*b))"
   ]
  },
  {
   "cell_type": "code",
   "execution_count": 47,
   "metadata": {},
   "outputs": [
    {
     "name": "stdout",
     "output_type": "stream",
     "text": [
      "숫자1: 0\n",
      "숫자2: 0\n",
      "계산을 종료합니다.\n"
     ]
    },
    {
     "data": {
      "text/plain": [
       "'\\n#print(\"__name__ :\", __name__)\\nif __name__ == \"__main__\":\\n    print(add(2,1))\\n    print(substract(2,1))\\n    print(multiply(2,1))\\n    print(divide(4,2))\\n    '"
      ]
     },
     "execution_count": 47,
     "metadata": {},
     "output_type": "execute_result"
    }
   ],
   "source": [
    "a,b=0,0\n",
    "while True:\n",
    "    a=int(input(\"숫자1: \"))\n",
    "    b=int(input(\"숫자2: \"))\n",
    "    if a==0 and b==0:\n",
    "        print(\"계산을 종료합니다.\")\n",
    "        break\n",
    "    else:        \n",
    "        def add(a, b):\n",
    "            return a + b\n",
    "    \n",
    "        def substract(a, b):\n",
    "            return a - b\n",
    "\n",
    "        def multiply(a, b):\n",
    "            return a * b\n",
    "\n",
    "        def divide(a, b):\n",
    "            return a / b\n",
    "\n",
    "    print(\"합:\",add(a,b))\n",
    "    print(\"차:\",substract(a,b))\n",
    "    print(\"곱:\",multiply(a,b))\n",
    "    print(\"몫:\",divide(a,b))"
   ]
  },
  {
   "cell_type": "code",
   "execution_count": 63,
   "metadata": {},
   "outputs": [
    {
     "name": "stdout",
     "output_type": "stream",
     "text": [
      "숫자1: 0\n",
      "숫자2: 0\n",
      "종료합니다.\n"
     ]
    },
    {
     "data": {
      "text/plain": [
       "'\\nclass  Car :\\n\\t    color = \"\"\\n\\t    speed = 0\\n\\n\\t    def  upSpeed(self, value) :\\n\\t        self.speed += value\\n\\t    \\n\\t    def  downSpeed(self, value) :\\n\\t        self.speed -= value\\n\\n\\t## 메인 코드 부분 ##\\n\\tmyCar1 = Car()\\n\\tmyCar1.color = \"빨강\"\\n\\tmyCar1.speed = 0\\n'"
      ]
     },
     "execution_count": 63,
     "metadata": {},
     "output_type": "execute_result"
    }
   ],
   "source": [
    "while True:\n",
    "    a=int(input(\"숫자1: \"))\n",
    "    b=int(input(\"숫자2: \"))\n",
    "    if a==0 and b==0:\n",
    "        print(\"종료합니다.\")\n",
    "        break\n",
    "    else:\n",
    "        def func(a,b):\n",
    "            print(\"합:\", a+b)\n",
    "            print(\"차:\", a-b)\n",
    "            print(\"곱:\", a*b)\n",
    "            print(\"몫:\", a/b)\n",
    "    func(a,b)\n",
    "'''\n",
    "class  Car :\n",
    "\t    color = \"\"\n",
    "\t    speed = 0\n",
    "\n",
    "\t    def  upSpeed(self, value) :\n",
    "\t        self.speed += value\n",
    "\t    \n",
    "\t    def  downSpeed(self, value) :\n",
    "\t        self.speed -= value\n",
    "\n",
    "\t## 메인 코드 부분 ##\n",
    "\tmyCar1 = Car()\n",
    "\tmyCar1.color = \"빨강\"\n",
    "\tmyCar1.speed = 0\n",
    "'''\n"
   ]
  },
  {
   "cell_type": "code",
   "execution_count": 64,
   "metadata": {},
   "outputs": [
    {
     "name": "stdout",
     "output_type": "stream",
     "text": [
      "첫 번째 숫자를 입력하세요(종료시:0):4\n",
      "두 번째 숫자를 입력하세요(종료시:0):6\n",
      "합: 10\n",
      "차: -2\n",
      "곱: 24\n",
      "몫: 0.6666666666666666\n",
      "첫 번째 숫자를 입력하세요(종료시:0):0\n",
      "두 번째 숫자를 입력하세요(종료시:0):0\n",
      "종료합니다\n"
     ]
    }
   ],
   "source": []
  }
 ],
 "metadata": {
  "kernelspec": {
   "display_name": "Python 3",
   "language": "python",
   "name": "python3"
  },
  "language_info": {
   "codemirror_mode": {
    "name": "ipython",
    "version": 3
   },
   "file_extension": ".py",
   "mimetype": "text/x-python",
   "name": "python",
   "nbconvert_exporter": "python",
   "pygments_lexer": "ipython3",
   "version": "3.7.1"
  }
 },
 "nbformat": 4,
 "nbformat_minor": 2
}
