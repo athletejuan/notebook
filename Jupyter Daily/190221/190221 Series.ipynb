{
 "cells": [
  {
   "cell_type": "code",
   "execution_count": 26,
   "metadata": {},
   "outputs": [
    {
     "name": "stdout",
     "output_type": "stream",
     "text": [
      "0    홍길동\n",
      "1    이순신\n",
      "2    강감찬\n",
      "dtype: object\n",
      "a    100\n",
      "c    300\n",
      "b    200\n",
      "dtype: int64\n",
      "100    1\n",
      "101    2\n",
      "102    3\n",
      "103    4\n",
      "dtype: int64\n",
      "1\n",
      "1\n",
      "a    1\n",
      "c    3\n",
      "d    4\n",
      "dtype: int64\n"
     ]
    }
   ],
   "source": [
    "import pandas as pd\n",
    "import numpy as np\n",
    "s=pd.Series()\n",
    "#print(s)\n",
    "data=np.array([1,2,3,4])\n",
    "s2=pd.Series(data)\n",
    "#print(s2)\n",
    "\n",
    "data2=np.array(['홍길동','이순신','강감찬'])\n",
    "label2=[100,200,300]\n",
    "s3=pd.Series(data2,label2)\n",
    "s3=pd.Series(data2, index=[0,1,2])\n",
    "print(s3)\n",
    "\n",
    "data3={'a':100,'b':200,'c':300}\n",
    "s4=pd.Series(data3, index=['a','c','b'])\n",
    "print(s4)\n",
    "\n",
    "data5=[1,2,3,4]\n",
    "s5=pd.Series(data5, index=[100,101,102,103])\n",
    "print(s5)\n",
    "\n",
    "data6=pd.Series([1,2,3,4],index=['a','b','c','d'])\n",
    "print(data6[0])\n",
    "print(data6['a'])\n",
    "data6[1:]\n",
    "data6[-3:]\n",
    "print(data6[['a','c','d']])"
   ]
  },
  {
   "cell_type": "code",
   "execution_count": null,
   "metadata": {},
   "outputs": [],
   "source": []
  }
 ],
 "metadata": {
  "kernelspec": {
   "display_name": "Python 3",
   "language": "python",
   "name": "python3"
  },
  "language_info": {
   "codemirror_mode": {
    "name": "ipython",
    "version": 3
   },
   "file_extension": ".py",
   "mimetype": "text/x-python",
   "name": "python",
   "nbconvert_exporter": "python",
   "pygments_lexer": "ipython3",
   "version": "3.7.1"
  }
 },
 "nbformat": 4,
 "nbformat_minor": 2
}
