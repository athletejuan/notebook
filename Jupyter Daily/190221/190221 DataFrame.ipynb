{
 "cells": [
  {
   "cell_type": "code",
   "execution_count": 6,
   "metadata": {},
   "outputs": [
    {
     "name": "stdout",
     "output_type": "stream",
     "text": [
      "   0\n",
      "0  1\n",
      "1  2\n",
      "2  3\n",
      "3  4\n",
      "         Name  Qty\n",
      "First   item1    1\n",
      "Second  item2    2\n",
      "Third   item3    3\n"
     ]
    }
   ],
   "source": [
    "import numpy as np\n",
    "import pandas as pd\n",
    "data=[1,2,3,4]\n",
    "df=pd.DataFrame(data)\n",
    "print(df)\n",
    "data2=[['item1',1],['item2',2],['item3',3]]\n",
    "np.array(data2).shape\n",
    "df2=pd.DataFrame(data2,index=['First','Second','Third'], columns=['Name','Qty'])\n",
    "print(df2)"
   ]
  },
  {
   "cell_type": "code",
   "execution_count": 62,
   "metadata": {},
   "outputs": [
    {
     "data": {
      "text/plain": [
       "\"\\n#df.columns\\n#df.iloc[:,:]\\n#df2=df['날짜']+df['지점']\\n\\nd={'one':pd.Series([1,2,3],index=['a','b','c']),\\n'two':pd.Series([4,5,6,7],index=['a','b','c','d'])}\\ndf2=pd.Series(d)\\ndf2['three']=pd.Series([10,20,30],index=['a','b','c'])\\ndf2\\nd1=pd.DataFrame([[1,2,3],[4,5,6]], columns=['F','S','T'], index=['1st','2nd'])\\nd1['A']=d1['F']\\ndel d1['A']\\nd1\\n\""
      ]
     },
     "execution_count": 62,
     "metadata": {},
     "output_type": "execute_result"
    }
   ],
   "source": [
    "import pandas as pd\n",
    "df=pd.read_csv(\"seoul.csv\", encoding=\"utf-8\")\n",
    "'''\n",
    "#df.head()\n",
    "#df.tail()\n",
    "df.head()\n",
    "#df.headad()\n",
    "df['지점']\n",
    "'''\n",
    "df.columns\n",
    "df.columns[0]\n",
    "df.columns[0:2]\n",
    "'''\n",
    "df.head()\n",
    "df.iloc[1:51]\n",
    "print(df[1:2])\n",
    "df.iloc[[0,2,4], 0:4] #row, column\n",
    "df[['날짜','지점']] #Column\n",
    "df[0:1] #Row\n",
    "df.iloc[0]\n",
    "'''\n",
    "'''\n",
    "#df.columns\n",
    "#df.iloc[:,:]\n",
    "#df2=df['날짜']+df['지점']\n",
    "\n",
    "d={'one':pd.Series([1,2,3],index=['a','b','c']),\n",
    "'two':pd.Series([4,5,6,7],index=['a','b','c','d'])}\n",
    "df2=pd.Series(d)\n",
    "df2['three']=pd.Series([10,20,30],index=['a','b','c'])\n",
    "df2\n",
    "d1=pd.DataFrame([[1,2,3],[4,5,6]], columns=['F','S','T'], index=['1st','2nd'])\n",
    "d1['A']=d1['F']\n",
    "del d1['A']\n",
    "d1\n",
    "'''"
   ]
  }
 ],
 "metadata": {
  "kernelspec": {
   "display_name": "Python 3",
   "language": "python",
   "name": "python3"
  },
  "language_info": {
   "codemirror_mode": {
    "name": "ipython",
    "version": 3
   },
   "file_extension": ".py",
   "mimetype": "text/x-python",
   "name": "python",
   "nbconvert_exporter": "python",
   "pygments_lexer": "ipython3",
   "version": "3.7.1"
  }
 },
 "nbformat": 4,
 "nbformat_minor": 2
}
