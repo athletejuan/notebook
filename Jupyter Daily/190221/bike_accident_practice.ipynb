{
 "cells": [
  {
   "cell_type": "code",
   "execution_count": 66,
   "metadata": {},
   "outputs": [
    {
     "name": "stdout",
     "output_type": "stream",
     "text": [
      "[[739, 793, 13, 218, 423, 139]]\n"
     ]
    },
    {
     "data": {
      "image/png": "[encoded data removed]",
      "text/plain": [
       "<Figure size 432x288 with 1 Axes>"
      ]
     },
     "metadata": {
      "needs_background": "light"
     },
     "output_type": "display_data"
    }
   ],
   "source": [
    "import pandas as pd\n",
    "df=pd.read_csv(\"bike_accident.csv\", encoding=\"EUC-KR\")\n",
    "selections=['서울특별시','부산광역시', '대구광역시',\n",
    "                    '경상북도', '경상남도', '광주광역시', '대전광역시', \n",
    "                    '울산광역시', '경기도', '충청북도', '충청남도', \n",
    "                    '전라북도', '전라남도', '강원도', '인천광역시']\n",
    "count1=[0,0,0,0,0,0]\n",
    "count2=[0,0,0,0,0,0]\n",
    "count3=[0,0,0,0,0,0]\n",
    "count4=[0,0,0,0,0,0]\n",
    "count5=[0,0,0,0,0,0]\n",
    "count6=[0,0,0,0,0,0]\n",
    "count7=[0,0,0,0,0,0]\n",
    "count8=[0,0,0,0,0,0]\n",
    "count9=[0,0,0,0,0,0]\n",
    "count10=[0,0,0,0,0,0]\n",
    "count11=[0,0,0,0,0,0]\n",
    "count12=[0,0,0,0,0,0]\n",
    "count13=[0,0,0,0,0,0]\n",
    "count14=[0,0,0,0,0,0]\n",
    "count15=[0,0,0,0,0,0]\n",
    "\n",
    "for i in range(len(df)):\n",
    "    for slt in selections:\n",
    "        if slt in df.iloc[i,4]:\n",
    "            if slt == \"서울특별시\":\n",
    "                df2=df.iloc[i,[6,7,8,9,10,11]]\n",
    "                count1[0]+=df2[0]\n",
    "                count1[1]+=df2[1]\n",
    "                count1[2]+=df2[2]\n",
    "                count1[3]+=df2[3]\n",
    "                count1[4]+=df2[4]\n",
    "                count1[5]+=df2[5]\n",
    "results = [count1]\n",
    "print(results)\n",
    "\n",
    "import matplotlib.pyplot as plt\n",
    "#plt.plot(results)\n",
    "#plt.show()\n",
    "titles = ['발생건수','사상자수','사망자수','중상자수','경상자수','부상신고자수']\n",
    "for count in results:\n",
    "    plt.plot(titles,count)\n",
    "    plt.bar(titles, count)\n",
    "plt.show()"
   ]
  },
  {
   "cell_type": "code",
   "execution_count": null,
   "metadata": {},
   "outputs": [],
   "source": []
  }
 ],
 "metadata": {
  "kernelspec": {
   "display_name": "Python 3",
   "language": "python",
   "name": "python3"
  },
  "language_info": {
   "codemirror_mode": {
    "name": "ipython",
    "version": 3
   },
   "file_extension": ".py",
   "mimetype": "text/x-python",
   "name": "python",
   "nbconvert_exporter": "python",
   "pygments_lexer": "ipython3",
   "version": "3.7.1"
  }
 },
 "nbformat": 4,
 "nbformat_minor": 2
}
