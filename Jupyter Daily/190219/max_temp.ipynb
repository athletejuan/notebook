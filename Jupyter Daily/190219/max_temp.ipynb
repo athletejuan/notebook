{
 "cells": [
  {
   "cell_type": "code",
   "execution_count": 26,
   "metadata": {},
   "outputs": [
    {
     "name": "stdout",
     "output_type": "stream",
     "text": [
      "38.4 1994-07-24\n"
     ]
    },
    {
     "data": {
      "text/plain": [
       "\"\\ntemp=[]\\nfor row in data:\\n    temp[append(row[2])]\\ntemp2 = 0\\nfor row in temp[1:]:\\n    if row == '':continue\\n    temp2+=float(row)\\n         \\nprint(temp2)\\nprint(len(temp[1:]))\\n\""
      ]
     },
     "execution_count": 26,
     "metadata": {},
     "output_type": "execute_result"
    }
   ],
   "source": [
    "import csv\n",
    "f=open('seoul.csv',encoding=\"utf-8\")\n",
    "data=csv.reader(f)\n",
    "next(data)\n",
    "max_temp=0\n",
    "max_temp_date=''\n",
    "cnt=0\n",
    "for row in data:\n",
    "    if row[-1] != '':\n",
    "        if(int(row[0].split(\"-\")[0]) < 1995 and float(row[-1]) > max_temp):\n",
    "               max_temp = float(row[-1])\n",
    "               max_temp_date = row[0]\n",
    "print(max_temp, max_temp_date)\n",
    "'''\n",
    "test_value=\"1907-11-01\"\n",
    "print(test_value.split(\"-\")[0])\n",
    "int(test_value.split(\"-\")[0])<1995\n",
    "#print(t)\n",
    "#for row in data:\n",
    " #   print(row[0],row[1],row[2])\n",
    "'''\n",
    "'''\n",
    "temp=[]\n",
    "for row in data:\n",
    "    temp[append(row[2])]\n",
    "temp2 = 0\n",
    "for row in temp[1:]:\n",
    "    if row == '':continue\n",
    "    temp2+=float(row)\n",
    "         \n",
    "print(temp2)\n",
    "print(len(temp[1:]))\n",
    "'''"
   ]
  }
 ],
 "metadata": {
  "kernelspec": {
   "display_name": "Python 3",
   "language": "python",
   "name": "python3"
  },
  "language_info": {
   "codemirror_mode": {
    "name": "ipython",
    "version": 3
   },
   "file_extension": ".py",
   "mimetype": "text/x-python",
   "name": "python",
   "nbconvert_exporter": "python",
   "pygments_lexer": "ipython3",
   "version": "3.7.1"
  }
 },
 "nbformat": 4,
 "nbformat_minor": 2
}
