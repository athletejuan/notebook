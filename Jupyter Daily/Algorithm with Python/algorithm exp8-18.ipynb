{
 "cells": [
  {
   "cell_type": "code",
   "execution_count": 12,
   "metadata": {},
   "outputs": [
    {
     "name": "stdout",
     "output_type": "stream",
     "text": [
      "입력: 11\n",
      "11는 소수\n"
     ]
    }
   ],
   "source": [
    "def prime(n):\n",
    "    i=2\n",
    "    while i <n:\n",
    "        if n%i==0:\n",
    "            break\n",
    "        i=i+1\n",
    "    if i==n:\n",
    "        print(\"{0}는 소수\".format(n))            \n",
    "    else:\n",
    "        print(\"{0}는 합성수\".format(n))\n",
    "num=input(\"입력: \")\n",
    "n=int(num)\n",
    "prime(n)"
   ]
  },
  {
   "cell_type": "code",
   "execution_count": 15,
   "metadata": {},
   "outputs": [
    {
     "name": "stdout",
     "output_type": "stream",
     "text": [
      "입력: 21\n",
      "2는 소수\n",
      "3는 소수\n",
      "4는 합성수\n",
      "5는 소수\n",
      "6는 합성수\n",
      "7는 소수\n",
      "8는 합성수\n",
      "9는 합성수\n",
      "10는 합성수\n",
      "11는 소수\n",
      "12는 합성수\n",
      "13는 소수\n",
      "14는 합성수\n",
      "15는 합성수\n",
      "16는 합성수\n",
      "17는 소수\n",
      "18는 합성수\n",
      "19는 소수\n",
      "20는 합성수\n",
      "21는 합성수\n"
     ]
    }
   ],
   "source": [
    "def allprime(n):\n",
    "    i=2\n",
    "    while i <n:\n",
    "        if n%i==0:\n",
    "            break\n",
    "        i=i+1\n",
    "    if i==n:\n",
    "        print(\"{0}는 소수\".format(n))            \n",
    "    else:\n",
    "        print(\"{0}는 합성수\".format(n))\n",
    "i=2\n",
    "num=input(\"입력: \")\n",
    "n=int(num)\n",
    "while i<=n:\n",
    "    allprime(i)\n",
    "    i=i+1"
   ]
  },
  {
   "cell_type": "code",
   "execution_count": 29,
   "metadata": {},
   "outputs": [
    {
     "name": "stdout",
     "output_type": "stream",
     "text": [
      "입력: 16\n",
      "2\n",
      "4\n",
      "8\n"
     ]
    }
   ],
   "source": [
    "def divide(n):      \n",
    "    i=2\n",
    "    while i<=n:\n",
    "        if n%i==0:\n",
    "            print(i)\n",
    "        i=i+1\n",
    "\n",
    "n=int(input(\"입력: \"))\n",
    "divide(n)"
   ]
  },
  {
   "cell_type": "code",
   "execution_count": 31,
   "metadata": {},
   "outputs": [
    {
     "name": "stdout",
     "output_type": "stream",
     "text": [
      "입력: 20\n",
      "2\n",
      "3\n",
      "5\n",
      "7\n",
      "11\n",
      "13\n",
      "17\n",
      "19\n"
     ]
    }
   ],
   "source": [
    "def calc_prime(n):\n",
    "    check=[True]*1000\n",
    "    i=2\n",
    "    k=1\n",
    "    while i<n:\n",
    "        if check[i]==True:\n",
    "            print(i)\n",
    "            j=1\n",
    "            while j<n:\n",
    "                check[j]=False\n",
    "                k=k+1\n",
    "                j=i*k\n",
    "            k=1\n",
    "        i=i+1\n",
    "n=int(input(\"입력: \"))\n",
    "calc_prime(n)"
   ]
  },
  {
   "cell_type": "code",
   "execution_count": 48,
   "metadata": {},
   "outputs": [
    {
     "name": "stdout",
     "output_type": "stream",
     "text": [
      "입력: 20\n"
     ]
    },
    {
     "data": {
      "text/plain": [
       "41"
      ]
     },
     "execution_count": 48,
     "metadata": {},
     "output_type": "execute_result"
    }
   ],
   "source": [
    "def sum_divide(n):\n",
    "    i=1\n",
    "    sum=0\n",
    "    while i<=n:\n",
    "        if n%i==0:\n",
    "            sum=sum+i\n",
    "        i=i+1\n",
    "    return sum\n",
    "n=int(input(\"입력: \"))\n",
    "sum_divide(n)"
   ]
  },
  {
   "cell_type": "code",
   "execution_count": 54,
   "metadata": {},
   "outputs": [
    {
     "name": "stdout",
     "output_type": "stream",
     "text": [
      "입력: 192\n",
      "입력: 72\n",
      "두 수의 최대공약수: 24\n"
     ]
    }
   ],
   "source": [
    "def co_divide(p,q):\n",
    "    if p>q:\n",
    "        a=p\n",
    "        b=q\n",
    "    else:\n",
    "        a=q\n",
    "        b=p\n",
    "    while b>0:\n",
    "        c=b\n",
    "        b=a%b\n",
    "        a=c\n",
    "    return a\n",
    "\n",
    "p=int(input(\"입력: \"))\n",
    "q=int(input(\"입력: \"))\n",
    "n=co_divide(p,q)\n",
    "print(\"두 수의 최대공약수: {0}\".format(n))"
   ]
  },
  {
   "cell_type": "code",
   "execution_count": 59,
   "metadata": {},
   "outputs": [
    {
     "name": "stdout",
     "output_type": "stream",
     "text": [
      "입력: 64\n",
      "입력: 24\n",
      "두 수의 최대공약수: 8\n"
     ]
    }
   ],
   "source": [
    "def co_divide2(a,b):\n",
    "    if b==0:\n",
    "        return a\n",
    "    return co_divide2(b,a%b)\n",
    "\n",
    "a=int(input(\"입력: \"))\n",
    "b=int(input(\"입력: \"))\n",
    "n=co_divide2(a,b)\n",
    "print(\"두 수의 최대공약수: {0}\".format(n))"
   ]
  },
  {
   "cell_type": "code",
   "execution_count": 60,
   "metadata": {},
   "outputs": [
    {
     "name": "stdout",
     "output_type": "stream",
     "text": [
      "입력: 48\n",
      "2\n",
      "2\n",
      "2\n",
      "2\n",
      "3\n"
     ]
    }
   ],
   "source": [
    "def calc_prime_factorization(n):\n",
    "    i=2\n",
    "    while i<=n:\n",
    "        while 1:\n",
    "            if n%i==0:\n",
    "                print(i)\n",
    "                n=n//i\n",
    "            else:\n",
    "                break\n",
    "        i=i+1\n",
    "n=int(input(\"입력: \"))\n",
    "calc_prime_factorization(n)"
   ]
  },
  {
   "cell_type": "code",
   "execution_count": 61,
   "metadata": {},
   "outputs": [
    {
     "name": "stdout",
     "output_type": "stream",
     "text": [
      "2,3,5의 최소공배수: 30\n"
     ]
    }
   ],
   "source": [
    "def calc_LCM(n):\n",
    "    a=2\n",
    "    b=3\n",
    "    c=5\n",
    "    i=2\n",
    "    \n",
    "    while i<n:\n",
    "        if(i%a==0) and (i%b==0) and (i%c==0):\n",
    "            break\n",
    "        i=i+1\n",
    "    print(\"2,3,5의 최소공배수: {0}\".format(i))\n",
    "calc_LCM(100)"
   ]
  },
  {
   "cell_type": "code",
   "execution_count": 76,
   "metadata": {},
   "outputs": [
    {
     "name": "stdout",
     "output_type": "stream",
     "text": [
      "0\n",
      "1\n",
      "1\n",
      "2\n",
      "3\n",
      "5\n",
      "8\n",
      "13\n"
     ]
    }
   ],
   "source": [
    "a=[0]*100\n",
    "def calc_array(n):\n",
    "    a[1]=1\n",
    "    a[2]=1\n",
    "    i=3\n",
    "    while i<=n:\n",
    "        a[i]=a[i-1]+a[i-2]\n",
    "        i=i+1\n",
    "calc_array(10)\n",
    "i=0\n",
    "while i<=7:\n",
    "    print(a[i])\n",
    "    i=i+1"
   ]
  },
  {
   "cell_type": "code",
   "execution_count": 78,
   "metadata": {},
   "outputs": [
    {
     "name": "stdout",
     "output_type": "stream",
     "text": [
      "0\n",
      "1\n",
      "2\n",
      "2\n",
      "3\n",
      "3\n",
      "3\n",
      "3\n",
      "4\n",
      "4\n",
      "4\n",
      "4\n",
      "4\n",
      "4\n",
      "4\n",
      "4\n",
      "5\n",
      "5\n",
      "5\n",
      "5\n",
      "5\n",
      "5\n",
      "5\n",
      "5\n",
      "5\n",
      "5\n",
      "5\n",
      "5\n",
      "5\n",
      "5\n",
      "5\n",
      "5\n",
      "6\n",
      "6\n",
      "6\n",
      "6\n",
      "6\n",
      "6\n",
      "6\n",
      "6\n",
      "6\n",
      "6\n",
      "6\n",
      "6\n",
      "6\n",
      "6\n",
      "6\n",
      "6\n",
      "6\n",
      "6\n",
      "6\n",
      "6\n",
      "6\n",
      "6\n",
      "6\n",
      "6\n",
      "6\n",
      "6\n",
      "6\n",
      "6\n",
      "6\n",
      "6\n",
      "6\n",
      "6\n",
      "7\n",
      "7\n",
      "7\n",
      "7\n",
      "7\n",
      "7\n",
      "7\n",
      "7\n",
      "7\n",
      "7\n",
      "7\n",
      "7\n",
      "7\n",
      "7\n",
      "7\n",
      "7\n",
      "7\n",
      "7\n",
      "7\n",
      "7\n",
      "7\n",
      "7\n",
      "7\n",
      "7\n",
      "7\n",
      "7\n",
      "7\n",
      "7\n",
      "7\n",
      "7\n",
      "7\n",
      "7\n",
      "7\n",
      "7\n",
      "7\n",
      "7\n",
      "7\n"
     ]
    }
   ],
   "source": [
    "a=[0]*101\n",
    "def calc_array(n):\n",
    "    a[1]=1\n",
    "    i=2\n",
    "    while i<=100:\n",
    "        a[i]=a[i//2]+1\n",
    "        i=i+1\n",
    "calc_array(100)\n",
    "i=0\n",
    "while i<=100:\n",
    "    print(a[i])\n",
    "    i=i+1"
   ]
  }
 ],
 "metadata": {
  "kernelspec": {
   "display_name": "Python 3",
   "language": "python",
   "name": "python3"
  },
  "language_info": {
   "codemirror_mode": {
    "name": "ipython",
    "version": 3
   },
   "file_extension": ".py",
   "mimetype": "text/x-python",
   "name": "python",
   "nbconvert_exporter": "python",
   "pygments_lexer": "ipython3",
   "version": "3.7.1"
  }
 },
 "nbformat": 4,
 "nbformat_minor": 2
}
