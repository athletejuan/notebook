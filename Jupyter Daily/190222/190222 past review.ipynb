{
 "cells": [
  {
   "cell_type": "code",
   "execution_count": 43,
   "metadata": {},
   "outputs": [
    {
     "name": "stdout",
     "output_type": "stream",
     "text": [
      "1 1\n",
      "100 100\n",
      "one      100\n",
      "two        2\n",
      "three      3\n",
      "dtype: int64\n",
      "<class 'pandas.core.series.Series'>\n",
      "<class 'numpy.int64'>\n",
      "b    2\n",
      "a    1\n",
      "dtype: int64\n",
      "<class 'pandas.core.series.Series'>\n",
      "<class 'pandas.core.series.Series'>\n"
     ]
    },
    {
     "data": {
      "text/plain": [
       "one    1\n",
       "two    5\n",
       "Name: a, dtype: int64"
      ]
     },
     "execution_count": 43,
     "metadata": {},
     "output_type": "execute_result"
    }
   ],
   "source": [
    "#def test(a=1, b=0):\n",
    " #   return a+b\n",
    "\n",
    "import pandas as pd\n",
    "import numpy as np\n",
    "d=pd.Series([1,2,3])\n",
    "n=np.array([1,2,3])\n",
    "d1=pd.Series(n)\n",
    "d2=pd.Series([1,2,3], index=['one','two','three'])\n",
    "d3=pd.Series(data=[1,2,3], index=['one','two','three'])\n",
    "d4=pd.Series(data=[1,2,3], index=['one','two','three'], dtype=np.int)\n",
    "print(d3[0],d3['one'])\n",
    "d3[0]=100\n",
    "print(d3[0],d3['one'])\n",
    "print(d3)\n",
    "print(type(d3))\n",
    "print(type(d3[0]))\n",
    "d4={'a':1,'b':2}\n",
    "d5=pd.Series(data=d4, index=['b','a'])\n",
    "print(d5)\n",
    "d5[-1:]\n",
    "'''\n",
    "#DataFrame\n",
    "#pandas,DataFrame(data, index, columns, dtype)\n",
    "#List, Dict, Series, Numpy, ndarray, ETC...)\n",
    "df=pd.DataFrame()\n",
    "print(df)\n",
    "df2=pd.DataFrame([1,2,3,4])\n",
    "print(df2)\n",
    "df3=pd.DataFrame([[1,2,3,4],[5,6,7,8]])\n",
    "print(df3)\n",
    "df4=pd.DataFrame([[1,2,3,4],[5,6,7,8]], index=['one','two'], columns=['a','b','c','d'])\n",
    "print(df4)\n",
    "'''\n",
    "#Column Selection\n",
    "df4['a']\n",
    "#df4[['a','b']]\n",
    "print(type(df4['a']))\n",
    "print(type(df4['b']))\n",
    "df4['e']=[1,2]\n",
    "df4\n",
    "d4=pd.Series([3,4])\n",
    "#df4['f']=d4\n",
    "#df4\n",
    "del df4['e']\n",
    "df4\n",
    "df4.iloc[0,0]\n",
    "df4.iloc[:,[0,2,3]]\n",
    "df4.loc[['one','two'],'a']"
   ]
  },
  {
   "cell_type": "code",
   "execution_count": 46,
   "metadata": {},
   "outputs": [],
   "source": [
    "df5=pd.read_csv(\"NHIS_OPEN_GJ_2016.csv\", encoding='euc-kr')\n"
   ]
  },
  {
   "cell_type": "code",
   "execution_count": null,
   "metadata": {},
   "outputs": [],
   "source": [
    "\n"
   ]
  }
 ],
 "metadata": {
  "kernelspec": {
   "display_name": "Python 3",
   "language": "python",
   "name": "python3"
  },
  "language_info": {
   "codemirror_mode": {
    "name": "ipython",
    "version": 3
   },
   "file_extension": ".py",
   "mimetype": "text/x-python",
   "name": "python",
   "nbconvert_exporter": "python",
   "pygments_lexer": "ipython3",
   "version": "3.7.1"
  }
 },
 "nbformat": 4,
 "nbformat_minor": 2
}
