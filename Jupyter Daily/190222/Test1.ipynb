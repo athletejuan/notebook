{
 "cells": [
  {
   "cell_type": "code",
   "execution_count": 29,
   "metadata": {},
   "outputs": [
    {
     "name": "stdout",
     "output_type": "stream",
     "text": [
      "1 1\n",
      "100 100\n",
      "one      100\n",
      "two        2\n",
      "three      3\n",
      "dtype: int32\n",
      "<class 'pandas.core.series.Series'>\n",
      "<class 'numpy.int32'>\n",
      "b    2\n",
      "a    1\n",
      "dtype: int64\n"
     ]
    },
    {
     "data": {
      "text/plain": [
       "a    1\n",
       "dtype: int64"
      ]
     },
     "execution_count": 29,
     "metadata": {},
     "output_type": "execute_result"
    }
   ],
   "source": [
    "# pandas.Series(data, index, dtype)\n",
    "#def test(a=1, b=0):\n",
    "#    return a + b\n",
    "\n",
    "# Series\n",
    "import pandas as pd\n",
    "import numpy as np\n",
    "d = pd.Series([1,2,3])\n",
    "n = np.array([1,2,3])\n",
    "d1 = pd.Series(n)\n",
    "d2 = pd.Series([1,2,3], index=['one', 'two', 'three'])\n",
    "d3 = pd.Series(data=[1,2,3], index=['one', 'two', 'three'])\n",
    "d3 = pd.Series(data=[1,2,3],index=['one', 'two', 'three'],\n",
    "               dtype=np.int)\n",
    "\n",
    "print(d3[0], d3['one'])\n",
    "d3[0] = 100\n",
    "print(d3[0], d3['one'])\n",
    "print(d3)\n",
    "print(type(d3))\n",
    "print(type(d3[0]))\n",
    "d4 = {'a':1, 'b':2}\n",
    "d5 = pd.Series(data=d4, index=['b','a'])\n",
    "print(d5)\n",
    "d5[-1:]\n",
    "\n"
   ]
  },
  {
   "cell_type": "code",
   "execution_count": 62,
   "metadata": {
    "scrolled": true
   },
   "outputs": [
    {
     "name": "stdout",
     "output_type": "stream",
     "text": [
      "   0  1  2  3\n",
      "0  1  2  3  4\n",
      "1  5  6  7  8\n",
      "<class 'pandas.core.series.Series'>\n",
      "<class 'pandas.core.series.Series'>\n"
     ]
    },
    {
     "data": {
      "text/plain": [
       "one    1\n",
       "two    5\n",
       "Name: a, dtype: int64"
      ]
     },
     "execution_count": 62,
     "metadata": {},
     "output_type": "execute_result"
    }
   ],
   "source": [
    "# DataFrame\n",
    "# pandas.DataFrame(data, index, columns, dtype)\n",
    "# List, Dict, Series, Numpy ndarray, ETC...\n",
    "import pandas as pd\n",
    "df = pd.DataFrame()\n",
    "#print(df)\n",
    "df2 = pd.DataFrame([1,2,3,4])\n",
    "#print(df2)\n",
    "df3 = pd.DataFrame([[1,2,3,4],[5,6,7,8]])\n",
    "print(df3)\n",
    "df4 = pd.DataFrame([[1,2,3,4],[5,6,7,8]],\n",
    "                  index=['one', 'two'],\n",
    "                  columns=['a', 'b', 'c', 'd'])\n",
    "df4\n",
    "# Column Selection\n",
    "df4['a']\n",
    "#df4[['a', 'b']]\n",
    "print(type(df4['a']))\n",
    "print(type(df4['b']))\n",
    "df4['e'] = [1,2]\n",
    "df4\n",
    "d4 = pd.Series([3,4])\n",
    "#df4['f'] = d4\n",
    "#df4\n",
    "df4\n",
    "del df4['e']\n",
    "df4\n",
    "df4.iloc[0,0]\n",
    "df4.iloc[:, 0:]\n",
    "df4.iloc[:,[0, 2, 3]]\n",
    "\n",
    "df4.loc[['one','two'], 'a']"
   ]
  },
  {
   "cell_type": "code",
   "execution_count": 87,
   "metadata": {
    "scrolled": true
   },
   "outputs": [
    {
     "data": {
      "text/plain": [
       "(1000000, 34)"
      ]
     },
     "execution_count": 87,
     "metadata": {},
     "output_type": "execute_result"
    }
   ],
   "source": [
    "df6 = pd.read_csv(\"NHIS_OPEN_GJ_2016.csv\", encoding=\"euc-kr\")\n",
    "df6.head()\n"
   ]
  },
  {
   "cell_type": "code",
   "execution_count": 88,
   "metadata": {},
   "outputs": [],
   "source": [
    "#df6.iloc[0:2, [5,6]]\n",
    "#print(df6.iloc[[1,2,4],:7])\n"
   ]
  },
  {
   "cell_type": "code",
   "execution_count": null,
   "metadata": {},
   "outputs": [],
   "source": []
  },
  {
   "cell_type": "code",
   "execution_count": null,
   "metadata": {},
   "outputs": [],
   "source": []
  },
  {
   "cell_type": "code",
   "execution_count": null,
   "metadata": {},
   "outputs": [],
   "source": []
  }
 ],
 "metadata": {
  "kernelspec": {
   "display_name": "Python 3",
   "language": "python",
   "name": "python3"
  },
  "language_info": {
   "codemirror_mode": {
    "name": "ipython",
    "version": 3
   },
   "file_extension": ".py",
   "mimetype": "text/x-python",
   "name": "python",
   "nbconvert_exporter": "python",
   "pygments_lexer": "ipython3",
   "version": "3.7.1"
  }
 },
 "nbformat": 4,
 "nbformat_minor": 2
}
