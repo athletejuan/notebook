{
 "cells": [
  {
   "cell_type": "code",
   "execution_count": 22,
   "metadata": {},
   "outputs": [
    {
     "name": "stdout",
     "output_type": "stream",
     "text": [
      "Pandas(Index=0, col1=0.2547618351974531, col2=0.06903864492633538, col3=0.043536535660308795)\n",
      "Pandas(Index=1, col1=0.036781096727168006, col2=0.41325446244964337, col3=0.2213534309863734)\n",
      "Pandas(Index=2, col1=0.5364194011452009, col2=0.4867974518246241, col3=0.34145396696862673)\n",
      "Pandas(Index=3, col1=0.7812159502243811, col2=0.231021972002037, col3=0.5147598114261355)\n",
      "Pandas(Index=4, col1=0.24976755317254773, col2=0.2838948080363053, col3=0.11211144573304566)\n"
     ]
    }
   ],
   "source": [
    "import pandas as pd\n",
    "import numpy as np\n",
    "\n",
    "#pipe\n",
    "def add(a,b):\n",
    "    return a+b\n",
    "\n",
    "c=add(1,2)\n",
    "#print(c)\n",
    "\n",
    "df = pd.DataFrame(np.random.rand(5,3), columns=['col1','col2','col3'])\n",
    "#print(df)\n",
    "#print(df.pipe(add,2))\n",
    "'''\n",
    "print(df.apply(np.mean))\n",
    "print(df.apply(np.mean, axis=1))\n",
    "df.apply(lambda x:x.max()-x.min())\n",
    "'''\n",
    "'''\n",
    "# Rename\n",
    "\n",
    "df2 = pd.DataFrame(np.random.rand(5,3), columns=['col1','col2','col3'])\n",
    "print(df2)\n",
    "df2.rename(columns={'col1':'c1', 'col2':'c2'})\n",
    "df2.rename(index={0:'zero',1:'one'})\n",
    "df2\n",
    "'''\n",
    "# DataFrame Iteration\n",
    "\n",
    "df3 = pd.DataFrame(np.random.rand(5,3), columns=['col1','col2','col3'])\n",
    "df3\n",
    "#for col in df3:\n",
    "#    print(col)\n",
    "#for key, value in df3.iteritems():\n",
    "#    print(key,value)\n",
    "#for row_index,row in df3.iterrows():\n",
    "#    print(row_index, row)\n",
    "\n",
    "for row in df3.itertuples():\n",
    "    print(row)"
   ]
  }
 ],
 "metadata": {
  "kernelspec": {
   "display_name": "Python 3",
   "language": "python",
   "name": "python3"
  },
  "language_info": {
   "codemirror_mode": {
    "name": "ipython",
    "version": 3
   },
   "file_extension": ".py",
   "mimetype": "text/x-python",
   "name": "python",
   "nbconvert_exporter": "python",
   "pygments_lexer": "ipython3",
   "version": "3.7.1"
  }
 },
 "nbformat": 4,
 "nbformat_minor": 2
}
