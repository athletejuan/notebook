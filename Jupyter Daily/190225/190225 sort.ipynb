{
 "cells": [
  {
   "cell_type": "code",
   "execution_count": 25,
   "metadata": {},
   "outputs": [
    {
     "name": "stdout",
     "output_type": "stream",
     "text": [
      "        one       two     three\n",
      "a -0.370162 -1.180176  0.751395\n",
      "b       NaN       NaN       NaN\n",
      "c  0.323430 -1.083679 -0.041675\n",
      "d       NaN       NaN       NaN\n",
      "e  0.387129  1.585075 -0.684710\n",
      "f  0.280884 -0.258127 -0.116715\n",
      "g       NaN       NaN       NaN\n",
      "h -0.136366 -2.642270  2.142967\n"
     ]
    },
    {
     "data": {
      "text/plain": [
       "0.48491474122249834"
      ]
     },
     "execution_count": 25,
     "metadata": {},
     "output_type": "execute_result"
    }
   ],
   "source": [
    "import pandas as pd\n",
    "import numpy as np\n",
    "\n",
    "df=pd.DataFrame(np.random.randn(5,2), index=[2,1,0,3,4])\n",
    "df.sort_index(ascending=False) #default=True\n",
    "df.sort_index(axis=1)\n",
    "df.rename(columns={df.columns[0]:\"col1\", df.columns[1]:\"col2\"}, inplace=True)\n",
    "\n",
    "df.sort_values(by='col1')\n",
    "df.sort_values(by='col2')\n",
    "df.sort_values(by=['col1','col2'])\n",
    "df.sort_values(by=['col1','col2'], ascending=[True,False], inplace=True)\n",
    "df\n",
    "\n",
    "# Missing Data -> Na of NAN\n",
    "df2=pd.DataFrame(np.random.randn(5,3), index=['a','c','e','f','h'], columns=['one','two','three'])\n",
    "df2\n",
    "df3=df2.reindex(['a','b','c','d','e','f','g','h'])\n",
    "df3.isnull()\n",
    "df3['one'].isnull()\n",
    "df3['one'].notnull()\n",
    "\n",
    "print(df3)\n",
    "df3['one'].sum()"
   ]
  },
  {
   "cell_type": "code",
   "execution_count": 34,
   "metadata": {},
   "outputs": [
    {
     "data": {
      "text/html": [
       "<div>\n",
       "<style scoped>\n",
       "    .dataframe tbody tr th:only-of-type {\n",
       "        vertical-align: middle;\n",
       "    }\n",
       "\n",
       "    .dataframe tbody tr th {\n",
       "        vertical-align: top;\n",
       "    }\n",
       "\n",
       "    .dataframe thead th {\n",
       "        text-align: right;\n",
       "    }\n",
       "</style>\n",
       "<table border=\"1\" class=\"dataframe\">\n",
       "  <thead>\n",
       "    <tr style=\"text-align: right;\">\n",
       "      <th></th>\n",
       "      <th>one</th>\n",
       "      <th>two</th>\n",
       "      <th>three</th>\n",
       "    </tr>\n",
       "  </thead>\n",
       "  <tbody>\n",
       "    <tr>\n",
       "      <th>a</th>\n",
       "      <td>-0.370162</td>\n",
       "      <td>-1.180176</td>\n",
       "      <td>0.751395</td>\n",
       "    </tr>\n",
       "    <tr>\n",
       "      <th>c</th>\n",
       "      <td>0.323430</td>\n",
       "      <td>-1.083679</td>\n",
       "      <td>-0.041675</td>\n",
       "    </tr>\n",
       "    <tr>\n",
       "      <th>e</th>\n",
       "      <td>0.387129</td>\n",
       "      <td>1.585075</td>\n",
       "      <td>-0.684710</td>\n",
       "    </tr>\n",
       "    <tr>\n",
       "      <th>f</th>\n",
       "      <td>0.280884</td>\n",
       "      <td>-0.258127</td>\n",
       "      <td>-0.116715</td>\n",
       "    </tr>\n",
       "    <tr>\n",
       "      <th>h</th>\n",
       "      <td>-0.136366</td>\n",
       "      <td>-2.642270</td>\n",
       "      <td>2.142967</td>\n",
       "    </tr>\n",
       "  </tbody>\n",
       "</table>\n",
       "</div>"
      ],
      "text/plain": [
       "        one       two     three\n",
       "a -0.370162 -1.180176  0.751395\n",
       "c  0.323430 -1.083679 -0.041675\n",
       "e  0.387129  1.585075 -0.684710\n",
       "f  0.280884 -0.258127 -0.116715\n",
       "h -0.136366 -2.642270  2.142967"
      ]
     },
     "execution_count": 34,
     "metadata": {},
     "output_type": "execute_result"
    }
   ],
   "source": [
    "df4=pd.DataFrame(index=[0,1,2,3,4,5], columns=['one','two'])\n",
    "#print(df4)\n",
    "#print(df4.sum())\n",
    "#print(df4['one'].sum())\n",
    "\n",
    "df4.fillna(0)\n",
    "df3.dropna()"
   ]
  }
 ],
 "metadata": {
  "kernelspec": {
   "display_name": "Python 3",
   "language": "python",
   "name": "python3"
  },
  "language_info": {
   "codemirror_mode": {
    "name": "ipython",
    "version": 3
   },
   "file_extension": ".py",
   "mimetype": "text/x-python",
   "name": "python",
   "nbconvert_exporter": "python",
   "pygments_lexer": "ipython3",
   "version": "3.7.1"
  }
 },
 "nbformat": 4,
 "nbformat_minor": 2
}
