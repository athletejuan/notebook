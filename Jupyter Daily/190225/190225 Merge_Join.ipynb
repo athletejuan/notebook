{
 "cells": [
  {
   "cell_type": "code",
   "execution_count": 22,
   "metadata": {},
   "outputs": [
    {
     "name": "stdout",
     "output_type": "stream",
     "text": [
      "   id    Name subject_id\n",
      "0   1    Alex       sub1\n",
      "1   2     Amy       sub2\n",
      "2   3   Allen       sub4\n",
      "3   4   Alice       sub6\n",
      "4   5  Ayoung       sub5    id     Name subject_id\n",
      "0   1    Alex2       sub2\n",
      "1   2     Amy2       sub4\n",
      "2   3   Allen2       sub3\n",
      "3   4   Alice2       sub6\n",
      "4   5  Ayoung2       sub5\n",
      "   id  Name_x subject_id_x   Name_y subject_id_y\n",
      "0   1    Alex         sub1    Alex2         sub2\n",
      "1   2     Amy         sub2     Amy2         sub4\n",
      "2   3   Allen         sub4   Allen2         sub3\n",
      "3   4   Alice         sub6   Alice2         sub6\n",
      "4   5  Ayoung         sub5  Ayoung2         sub5\n"
     ]
    },
    {
     "data": {
      "text/html": [
       "<div>\n",
       "<style scoped>\n",
       "    .dataframe tbody tr th:only-of-type {\n",
       "        vertical-align: middle;\n",
       "    }\n",
       "\n",
       "    .dataframe tbody tr th {\n",
       "        vertical-align: top;\n",
       "    }\n",
       "\n",
       "    .dataframe thead th {\n",
       "        text-align: right;\n",
       "    }\n",
       "</style>\n",
       "<table border=\"1\" class=\"dataframe\">\n",
       "  <thead>\n",
       "    <tr style=\"text-align: right;\">\n",
       "      <th></th>\n",
       "      <th>id</th>\n",
       "      <th>Name</th>\n",
       "      <th>subject_id</th>\n",
       "    </tr>\n",
       "  </thead>\n",
       "  <tbody>\n",
       "  </tbody>\n",
       "</table>\n",
       "</div>"
      ],
      "text/plain": [
       "Empty DataFrame\n",
       "Columns: [id, Name, subject_id]\n",
       "Index: []"
      ]
     },
     "execution_count": 22,
     "metadata": {},
     "output_type": "execute_result"
    }
   ],
   "source": [
    "import pandas as pd\n",
    "import numpy as np\n",
    "\n",
    "data={'Team':['Tom','John','John','Amy'], 'Rank':[1,2,2,3], 'Year':[2014,2016,2016,2018], 'Point':[10,15,20,10]}\n",
    "df=pd.DataFrame(data)\n",
    "df.groupby('Team')['Point'].mean()\n",
    "df.groupby('Team')['Point'].sum()\n",
    "#df.groupby('Team').groups\n",
    "#df2=df.groupby('Team')\n",
    "\n",
    "#for name,group in df2:\n",
    " #   print(name,group)\n",
    "    \n",
    "# Merging & Join\n",
    "# pd.merge(left, right, how='inner', on=None, left_on=None, right_on=None, left_index=False, right_index=False, sort=True)\n",
    "\n",
    "left=pd.DataFrame({'id':[1,2,3,4,5],'Name':['Alex','Amy','Allen','Alice','Ayoung'],'subject_id':['sub1','sub2','sub4','sub6','sub5']})\n",
    "right=pd.DataFrame({'id':[1,2,3,4,5],'Name':['Alex2','Amy2','Allen2','Alice2','Ayoung2'],'subject_id':['sub2','sub4','sub3','sub6','sub5']})\n",
    "print(left,right)\n",
    "left\n",
    "print(pd.merge(left,right,on='id'))\n",
    "pd.merge(left,right,on=['id','subject_id'])\n",
    "pd.merge(left,right,on='subject_id')\n",
    "pd.merge(left,right,on='subject_id', how='left')\n",
    "pd.merge(left,right,on='subject_id', how='right')\n",
    "\n",
    "#how\n",
    "#left=> LEFT OUTER JOIN\n",
    "#right=> RIGHT OUTER JOIN\n",
    "#outer=> FULL OUTER JOIN\n",
    "#inner=> INNER JOIN\n",
    "pd.merge(left,right)"
   ]
  }
 ],
 "metadata": {
  "kernelspec": {
   "display_name": "Python 3",
   "language": "python",
   "name": "python3"
  },
  "language_info": {
   "codemirror_mode": {
    "name": "ipython",
    "version": 3
   },
   "file_extension": ".py",
   "mimetype": "text/x-python",
   "name": "python",
   "nbconvert_exporter": "python",
   "pygments_lexer": "ipython3",
   "version": "3.7.1"
  }
 },
 "nbformat": 4,
 "nbformat_minor": 2
}
